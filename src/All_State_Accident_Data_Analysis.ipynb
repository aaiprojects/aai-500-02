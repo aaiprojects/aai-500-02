{
 "cells": [
  {
   "cell_type": "code",
   "execution_count": 3,
   "metadata": {},
   "outputs": [
    {
     "name": "stdout",
     "output_type": "stream",
     "text": [
      "Requirement already satisfied: dask in c:\\users\\atul1\\work\\tools\\python3_12\\lib\\site-packages (2025.2.0)\n",
      "Requirement already satisfied: click>=8.1 in c:\\users\\atul1\\work\\tools\\python3_12\\lib\\site-packages (from dask) (8.1.8)\n",
      "Requirement already satisfied: cloudpickle>=3.0.0 in c:\\users\\atul1\\work\\tools\\python3_12\\lib\\site-packages (from dask) (3.1.1)\n",
      "Requirement already satisfied: fsspec>=2021.09.0 in c:\\users\\atul1\\work\\tools\\python3_12\\lib\\site-packages (from dask) (2025.2.0)\n",
      "Requirement already satisfied: packaging>=20.0 in c:\\users\\atul1\\appdata\\roaming\\python\\python312\\site-packages (from dask) (24.2)\n",
      "Requirement already satisfied: partd>=1.4.0 in c:\\users\\atul1\\work\\tools\\python3_12\\lib\\site-packages (from dask) (1.4.2)\n",
      "Requirement already satisfied: pyyaml>=5.3.1 in c:\\users\\atul1\\work\\tools\\python3_12\\lib\\site-packages (from dask) (6.0.2)\n",
      "Requirement already satisfied: toolz>=0.10.0 in c:\\users\\atul1\\work\\tools\\python3_12\\lib\\site-packages (from dask) (1.0.0)\n",
      "Requirement already satisfied: colorama in c:\\users\\atul1\\work\\tools\\python3_12\\lib\\site-packages (from click>=8.1->dask) (0.4.6)\n",
      "Requirement already satisfied: locket in c:\\users\\atul1\\work\\tools\\python3_12\\lib\\site-packages (from partd>=1.4.0->dask) (1.0.0)\n",
      "Requirement already satisfied: numpy in c:\\users\\atul1\\work\\tools\\python3_12\\lib\\site-packages (2.2.3)\n",
      "Requirement already satisfied: pandas in c:\\users\\atul1\\work\\tools\\python3_12\\lib\\site-packages (2.2.3)\n",
      "Requirement already satisfied: numpy>=1.26.0 in c:\\users\\atul1\\work\\tools\\python3_12\\lib\\site-packages (from pandas) (2.2.3)\n",
      "Requirement already satisfied: python-dateutil>=2.8.2 in c:\\users\\atul1\\work\\tools\\python3_12\\lib\\site-packages (from pandas) (2.9.0.post0)\n",
      "Requirement already satisfied: pytz>=2020.1 in c:\\users\\atul1\\work\\tools\\python3_12\\lib\\site-packages (from pandas) (2025.1)\n",
      "Requirement already satisfied: tzdata>=2022.7 in c:\\users\\atul1\\work\\tools\\python3_12\\lib\\site-packages (from pandas) (2025.1)\n",
      "Requirement already satisfied: six>=1.5 in c:\\users\\atul1\\work\\tools\\python3_12\\lib\\site-packages (from python-dateutil>=2.8.2->pandas) (1.17.0)\n",
      "Requirement already satisfied: pyarrow in c:\\users\\atul1\\work\\tools\\python3_12\\lib\\site-packages (19.0.0)\n",
      "Requirement already satisfied: plotly in c:\\users\\atul1\\work\\tools\\python3_12\\lib\\site-packages (6.0.0)\n",
      "Requirement already satisfied: narwhals>=1.15.1 in c:\\users\\atul1\\work\\tools\\python3_12\\lib\\site-packages (from plotly) (1.27.1)\n",
      "Requirement already satisfied: packaging in c:\\users\\atul1\\appdata\\roaming\\python\\python312\\site-packages (from plotly) (24.2)\n",
      "Requirement already satisfied: nbformat in c:\\users\\atul1\\work\\tools\\python3_12\\lib\\site-packages (5.10.4)\n",
      "Requirement already satisfied: fastjsonschema>=2.15 in c:\\users\\atul1\\work\\tools\\python3_12\\lib\\site-packages (from nbformat) (2.21.1)\n",
      "Requirement already satisfied: jsonschema>=2.6 in c:\\users\\atul1\\work\\tools\\python3_12\\lib\\site-packages (from nbformat) (4.23.0)\n",
      "Requirement already satisfied: jupyter-core!=5.0.*,>=4.12 in c:\\users\\atul1\\appdata\\roaming\\python\\python312\\site-packages (from nbformat) (5.7.2)\n",
      "Requirement already satisfied: traitlets>=5.1 in c:\\users\\atul1\\appdata\\roaming\\python\\python312\\site-packages (from nbformat) (5.14.3)\n",
      "Requirement already satisfied: attrs>=22.2.0 in c:\\users\\atul1\\work\\tools\\python3_12\\lib\\site-packages (from jsonschema>=2.6->nbformat) (25.1.0)\n",
      "Requirement already satisfied: jsonschema-specifications>=2023.03.6 in c:\\users\\atul1\\work\\tools\\python3_12\\lib\\site-packages (from jsonschema>=2.6->nbformat) (2024.10.1)\n",
      "Requirement already satisfied: referencing>=0.28.4 in c:\\users\\atul1\\work\\tools\\python3_12\\lib\\site-packages (from jsonschema>=2.6->nbformat) (0.36.2)\n",
      "Requirement already satisfied: rpds-py>=0.7.1 in c:\\users\\atul1\\work\\tools\\python3_12\\lib\\site-packages (from jsonschema>=2.6->nbformat) (0.22.3)\n",
      "Requirement already satisfied: platformdirs>=2.5 in c:\\users\\atul1\\appdata\\roaming\\python\\python312\\site-packages (from jupyter-core!=5.0.*,>=4.12->nbformat) (4.3.6)\n",
      "Requirement already satisfied: pywin32>=300 in c:\\users\\atul1\\appdata\\roaming\\python\\python312\\site-packages (from jupyter-core!=5.0.*,>=4.12->nbformat) (308)\n",
      "Requirement already satisfied: typing-extensions>=4.4.0 in c:\\users\\atul1\\work\\tools\\python3_12\\lib\\site-packages (from referencing>=0.28.4->jsonschema>=2.6->nbformat) (4.12.2)\n",
      "Name: nbformat\n",
      "Version: 5.10.4\n",
      "Summary: The Jupyter Notebook format\n",
      "Home-page: https://jupyter.org\n",
      "Author: \n",
      "Author-email: Jupyter Development Team <jupyter@googlegroups.com>\n",
      "License: BSD 3-Clause License\n",
      "\n",
      "- Copyright (c) 2001-2015, IPython Development Team\n",
      "- Copyright (c) 2015-, Jupyter Development Team\n",
      "\n",
      "All rights reserved.\n",
      "\n",
      "Redistribution and use in source and binary forms, with or without\n",
      "modification, are permitted provided that the following conditions are met:\n",
      "\n",
      "1. Redistributions of source code must retain the above copyright notice, this\n",
      "   list of conditions and the following disclaimer.\n",
      "\n",
      "2. Redistributions in binary form must reproduce the above copyright notice,\n",
      "   this list of conditions and the following disclaimer in the documentation\n",
      "   and/or other materials provided with the distribution.\n",
      "\n",
      "3. Neither the name of the copyright holder nor the names of its\n",
      "   contributors may be used to endorse or promote products derived from\n",
      "   this software without specific prior written permission.\n",
      "\n",
      "THIS SOFTWARE IS PROVIDED BY THE COPYRIGHT HOLDERS AND CONTRIBUTORS \"AS IS\"\n",
      "AND ANY EXPRESS OR IMPLIED WARRANTIES, INCLUDING, BUT NOT LIMITED TO, THE\n",
      "IMPLIED WARRANTIES OF MERCHANTABILITY AND FITNESS FOR A PARTICULAR PURPOSE ARE\n",
      "DISCLAIMED. IN NO EVENT SHALL THE COPYRIGHT HOLDER OR CONTRIBUTORS BE LIABLE\n",
      "FOR ANY DIRECT, INDIRECT, INCIDENTAL, SPECIAL, EXEMPLARY, OR CONSEQUENTIAL\n",
      "DAMAGES (INCLUDING, BUT NOT LIMITED TO, PROCUREMENT OF SUBSTITUTE GOODS OR\n",
      "SERVICES; LOSS OF USE, DATA, OR PROFITS; OR BUSINESS INTERRUPTION) HOWEVER\n",
      "CAUSED AND ON ANY THEORY OF LIABILITY, WHETHER IN CONTRACT, STRICT LIABILITY,\n",
      "OR TORT (INCLUDING NEGLIGENCE OR OTHERWISE) ARISING IN ANY WAY OUT OF THE USE\n",
      "OF THIS SOFTWARE, EVEN IF ADVISED OF THE POSSIBILITY OF SUCH DAMAGE.\n",
      "Location: C:\\Users\\atul1\\Work\\tools\\Python3_12\\Lib\\site-packages\n",
      "Requires: fastjsonschema, jsonschema, jupyter-core, traitlets\n",
      "Required-by: \n",
      "Requirement already satisfied: seaborn in c:\\users\\atul1\\work\\tools\\python3_12\\lib\\site-packages (0.13.2)\n",
      "Requirement already satisfied: numpy!=1.24.0,>=1.20 in c:\\users\\atul1\\work\\tools\\python3_12\\lib\\site-packages (from seaborn) (2.2.3)\n",
      "Requirement already satisfied: pandas>=1.2 in c:\\users\\atul1\\work\\tools\\python3_12\\lib\\site-packages (from seaborn) (2.2.3)\n",
      "Requirement already satisfied: matplotlib!=3.6.1,>=3.4 in c:\\users\\atul1\\work\\tools\\python3_12\\lib\\site-packages (from seaborn) (3.10.0)\n",
      "Requirement already satisfied: contourpy>=1.0.1 in c:\\users\\atul1\\work\\tools\\python3_12\\lib\\site-packages (from matplotlib!=3.6.1,>=3.4->seaborn) (1.3.1)\n",
      "Requirement already satisfied: cycler>=0.10 in c:\\users\\atul1\\work\\tools\\python3_12\\lib\\site-packages (from matplotlib!=3.6.1,>=3.4->seaborn) (0.12.1)\n",
      "Requirement already satisfied: fonttools>=4.22.0 in c:\\users\\atul1\\work\\tools\\python3_12\\lib\\site-packages (from matplotlib!=3.6.1,>=3.4->seaborn) (4.56.0)\n",
      "Requirement already satisfied: kiwisolver>=1.3.1 in c:\\users\\atul1\\work\\tools\\python3_12\\lib\\site-packages (from matplotlib!=3.6.1,>=3.4->seaborn) (1.4.8)\n",
      "Requirement already satisfied: packaging>=20.0 in c:\\users\\atul1\\appdata\\roaming\\python\\python312\\site-packages (from matplotlib!=3.6.1,>=3.4->seaborn) (24.2)\n",
      "Requirement already satisfied: pillow>=8 in c:\\users\\atul1\\work\\tools\\python3_12\\lib\\site-packages (from matplotlib!=3.6.1,>=3.4->seaborn) (11.1.0)\n",
      "Requirement already satisfied: pyparsing>=2.3.1 in c:\\users\\atul1\\work\\tools\\python3_12\\lib\\site-packages (from matplotlib!=3.6.1,>=3.4->seaborn) (3.2.1)\n",
      "Requirement already satisfied: python-dateutil>=2.7 in c:\\users\\atul1\\work\\tools\\python3_12\\lib\\site-packages (from matplotlib!=3.6.1,>=3.4->seaborn) (2.9.0.post0)\n",
      "Requirement already satisfied: pytz>=2020.1 in c:\\users\\atul1\\work\\tools\\python3_12\\lib\\site-packages (from pandas>=1.2->seaborn) (2025.1)\n",
      "Requirement already satisfied: tzdata>=2022.7 in c:\\users\\atul1\\work\\tools\\python3_12\\lib\\site-packages (from pandas>=1.2->seaborn) (2025.1)\n",
      "Requirement already satisfied: six>=1.5 in c:\\users\\atul1\\work\\tools\\python3_12\\lib\\site-packages (from python-dateutil>=2.7->matplotlib!=3.6.1,>=3.4->seaborn) (1.17.0)\n",
      "Requirement already satisfied: folium in c:\\users\\atul1\\work\\tools\\python3_12\\lib\\site-packages (0.19.4)\n",
      "Requirement already satisfied: branca>=0.6.0 in c:\\users\\atul1\\work\\tools\\python3_12\\lib\\site-packages (from folium) (0.8.1)\n",
      "Requirement already satisfied: jinja2>=2.9 in c:\\users\\atul1\\work\\tools\\python3_12\\lib\\site-packages (from folium) (3.1.5)\n",
      "Requirement already satisfied: numpy in c:\\users\\atul1\\work\\tools\\python3_12\\lib\\site-packages (from folium) (2.2.3)\n",
      "Requirement already satisfied: requests in c:\\users\\atul1\\work\\tools\\python3_12\\lib\\site-packages (from folium) (2.32.3)\n",
      "Requirement already satisfied: xyzservices in c:\\users\\atul1\\work\\tools\\python3_12\\lib\\site-packages (from folium) (2025.1.0)\n",
      "Requirement already satisfied: MarkupSafe>=2.0 in c:\\users\\atul1\\work\\tools\\python3_12\\lib\\site-packages (from jinja2>=2.9->folium) (3.0.2)\n",
      "Requirement already satisfied: charset-normalizer<4,>=2 in c:\\users\\atul1\\work\\tools\\python3_12\\lib\\site-packages (from requests->folium) (3.4.1)\n",
      "Requirement already satisfied: idna<4,>=2.5 in c:\\users\\atul1\\work\\tools\\python3_12\\lib\\site-packages (from requests->folium) (3.10)\n",
      "Requirement already satisfied: urllib3<3,>=1.21.1 in c:\\users\\atul1\\work\\tools\\python3_12\\lib\\site-packages (from requests->folium) (2.3.0)\n",
      "Requirement already satisfied: certifi>=2017.4.17 in c:\\users\\atul1\\work\\tools\\python3_12\\lib\\site-packages (from requests->folium) (2025.1.31)\n"
     ]
    }
   ],
   "source": [
    "!pip install dask\n",
    "!pip install numpy\n",
    "!pip install pandas\n",
    "!pip install pyarrow\n",
    "!pip install plotly\n",
    "!pip install nbformat\n",
    "!pip show nbformat\n",
    "!pip install seaborn\n",
    "!pip install folium"
   ]
  },
  {
   "cell_type": "code",
   "execution_count": 1,
   "metadata": {},
   "outputs": [
    {
     "name": "stdout",
     "output_type": "stream",
     "text": [
      "c:\\Users\\atul1\\Work\\tools\\Python3_12\\python.exe\n"
     ]
    }
   ],
   "source": [
    "import sys\n",
    "print(sys.executable)"
   ]
  },
  {
   "cell_type": "code",
   "execution_count": 4,
   "metadata": {},
   "outputs": [],
   "source": [
    "import pandas as pd\n",
    "import os\n",
    "import matplotlib.pyplot as plt\n",
    "import plotly.graph_objects as go\n",
    "import plotly.express as px\n",
    "import seaborn as sns\n",
    "import folium\n",
    "from folium.plugins import MarkerCluster\n",
    "import numpy as np\n",
    "import random\n",
    "#https://simplemaps.com/data/us-cities"
   ]
  },
  {
   "cell_type": "code",
   "execution_count": null,
   "metadata": {},
   "outputs": [],
   "source": [
    "raw_file_path = r\"..\\data\\US_Accidents_March23.csv\"\n",
    "fl_data_file = r\"..\\data\\state_wise_data\\FL_org.csv\"\n",
    "ca_data_file = r\"..\\data\\state_wise_data\\CA_org.csv\"\n",
    "va_data_file = r\"..\\data\\state_wise_data\\VA_org.csv\"\n",
    "ny_data_file = r\"..\\data\\state_wise_data\\NY_org.csv\"\n",
    "chunk_size = 100000  # Adjust based on available memory\n",
    "all_state_raw_data_file_frame = \"\"\n",
    "all_state_cleaned_data_file_frame = \"\""
   ]
  },
  {
   "cell_type": "code",
   "execution_count": 6,
   "metadata": {},
   "outputs": [
    {
     "data": {
      "text/html": [
       "<div>\n",
       "<style scoped>\n",
       "    .dataframe tbody tr th:only-of-type {\n",
       "        vertical-align: middle;\n",
       "    }\n",
       "\n",
       "    .dataframe tbody tr th {\n",
       "        vertical-align: top;\n",
       "    }\n",
       "\n",
       "    .dataframe thead th {\n",
       "        text-align: right;\n",
       "    }\n",
       "</style>\n",
       "<table border=\"1\" class=\"dataframe\">\n",
       "  <thead>\n",
       "    <tr style=\"text-align: right;\">\n",
       "      <th></th>\n",
       "      <th>State</th>\n",
       "      <th>Population</th>\n",
       "    </tr>\n",
       "  </thead>\n",
       "  <tbody>\n",
       "    <tr>\n",
       "      <th>0</th>\n",
       "      <td>AL</td>\n",
       "      <td>3977628</td>\n",
       "    </tr>\n",
       "    <tr>\n",
       "      <th>1</th>\n",
       "      <td>AK</td>\n",
       "      <td>557899</td>\n",
       "    </tr>\n",
       "    <tr>\n",
       "      <th>2</th>\n",
       "      <td>AZ</td>\n",
       "      <td>5848310</td>\n",
       "    </tr>\n",
       "    <tr>\n",
       "      <th>3</th>\n",
       "      <td>AR</td>\n",
       "      <td>2362124</td>\n",
       "    </tr>\n",
       "    <tr>\n",
       "      <th>4</th>\n",
       "      <td>CA</td>\n",
       "      <td>30519524</td>\n",
       "    </tr>\n",
       "    <tr>\n",
       "      <th>5</th>\n",
       "      <td>CO</td>\n",
       "      <td>4662926</td>\n",
       "    </tr>\n",
       "    <tr>\n",
       "      <th>6</th>\n",
       "      <td>CT</td>\n",
       "      <td>2894190</td>\n",
       "    </tr>\n",
       "    <tr>\n",
       "      <th>7</th>\n",
       "      <td>DE</td>\n",
       "      <td>819952</td>\n",
       "    </tr>\n",
       "    <tr>\n",
       "      <th>8</th>\n",
       "      <td>DC</td>\n",
       "      <td>552380</td>\n",
       "    </tr>\n",
       "    <tr>\n",
       "      <th>9</th>\n",
       "      <td>FL</td>\n",
       "      <td>18229883</td>\n",
       "    </tr>\n",
       "  </tbody>\n",
       "</table>\n",
       "</div>"
      ],
      "text/plain": [
       "  State  Population\n",
       "0    AL     3977628\n",
       "1    AK      557899\n",
       "2    AZ     5848310\n",
       "3    AR     2362124\n",
       "4    CA    30519524\n",
       "5    CO     4662926\n",
       "6    CT     2894190\n",
       "7    DE      819952\n",
       "8    DC      552380\n",
       "9    FL    18229883"
      ]
     },
     "metadata": {},
     "output_type": "display_data"
    }
   ],
   "source": [
    "# Creating a DataFrame from the given data\n",
    "# https://www.census.gov/data/tables/time-series/demo/popest/2020s-state-detail.html?utm_source=chatgpt.com\n",
    "USA_2023_POPULATION_DATA = {\n",
    "    \"State\": [\n",
    "        \"AL\", \"AK\", \"AZ\", \"AR\", \"CA\", \"CO\", \"CT\", \"DE\", \"DC\", \"FL\", \"GA\", \"HI\", \"ID\", \"IL\", \"IN\", \"IA\", \"KS\", \"KY\",\n",
    "        \"LA\", \"ME\", \"MD\", \"MA\", \"MI\", \"MN\", \"MS\", \"MO\", \"MT\", \"NE\", \"NV\", \"NH\", \"NJ\", \"NM\", \"NY\", \"NC\", \"ND\", \"OH\",\n",
    "        \"OK\", \"OR\", \"PA\", \"RI\", \"SC\", \"SD\", \"TN\", \"TX\", \"UT\", \"VT\", \"VA\", \"WA\", \"WV\", \"WI\", \"WY\"\n",
    "    ],\n",
    "    \"Population\": [\n",
    "        3977628, 557899, 5848310, 2362124, 30519524, 4662926, 2894190, 819952, 552380, 18229883,\n",
    "        8490546, 1141525, 1497384, 9844167, 5274945, 2476882, 2246209, 3509259, 3506600, 1146670,\n",
    "        4818337, 5659598, 7925350, 4436981, 2259864, 4821686, 897161, 1497381, 2508220, 1150004,\n",
    "        7280551, 1663024, 15611308, 8498868, 599192, 9207681, 3087217, 3401528, 10332678, 892124,\n",
    "        4229354, 697420, 5555761, 22942176, 2484582, 532828, 6834154, 6164810, 1417859, 4661826, 454508\n",
    "    ]\n",
    "}\n",
    "\n",
    "usa_2023_population_age_18_and_up_data_frame = pd.DataFrame(USA_2023_POPULATION_DATA)\n",
    "display(usa_2023_population_age_18_and_up_data_frame.head(10))\n"
   ]
  },
  {
   "cell_type": "code",
   "execution_count": 8,
   "metadata": {},
   "outputs": [],
   "source": [
    "\n",
    "def read_large_csv(file_path, chunk_size):\n",
    "    \"\"\"Reads a large CSV file in chunks and returns a generator of chunks.\"\"\"\n",
    "    return pd.read_csv(file_path, chunksize=chunk_size, low_memory=False)\n",
    "\n",
    "def process_large_csv(file_path, chunk_size=100000):\n",
    "    \"\"\"Processes the large CSV file and returns the cleaned DataFrame.\"\"\"\n",
    "    df_combined = pd.DataFrame()\n",
    "\n",
    "    for chunk in read_large_csv(file_path, chunk_size):\n",
    "        df_combined = pd.concat([df_combined, chunk], ignore_index=True)\n",
    "\n",
    "    return df_combined\n",
    "\n",
    "\n",
    "def drop_columns(data_frame):\n",
    "    cols_to_drop = ['ID', 'Source', 'End_Lat', 'End_Lng', 'Distance(mi)', \n",
    "                    'Description', 'Airport_Code', 'Pressure(in)', \n",
    "                    'Wind_Direction', 'Precipitation(in)', \n",
    "                    'Amenity','Give_Way', 'No_Exit', 'Traffic_Calming', \n",
    "                    'Turning_Loop', 'Nautical_Twilight', 'Astronomical_Twilight',\n",
    "                    'Civil_Twilight','Airport_Code','Sunrise_Sunset'\n",
    "                    ]\n",
    "    return data_frame.drop(cols_to_drop, axis=1)\n",
    "\n",
    "\n",
    "def split_and_save_by_state(data_frame, output_dir=r\"..\\data\\state_wise_data\"):\n",
    "    \"\"\"Splits data by state and saves it into separate CSV files.\"\"\"\n",
    "    os.makedirs(output_dir, exist_ok=True)\n",
    "\n",
    "    for state, state_df in data_frame.groupby(\"State\"):\n",
    "        if (state == 'FL' or state == 'CA' or state == 'VA' or state == 'NY') :\n",
    "            state_file = os.path.join(output_dir, f\"{state}_org.csv\")\n",
    "            state_df.to_csv(state_file, index=False)\n",
    "    print(f\"Data saved for FA, CA, VA, NY \\n \")\n",
    "\n",
    "def save_cleaned_all_state_data(data_frame, output_dir=r\"..\\data\\cleaned_raw_data\"):\n",
    "    os.makedirs(output_dir, exist_ok=True)\n",
    "    filePath = os.path.join(output_dir, \"cleaned_all_state_data.csv\")\n",
    "\n",
    "    data_frame.to_csv(filePath, index=False)\n",
    "    print(f\"Saved Cleaned all state Data  \\n \")\n",
    "\n",
    "\n",
    "def print_summary(data_frame):\n",
    "    print(\"** Data Frame Info: \\n\")\n",
    "    print(f\"{data_frame.info()}\")\n",
    "    print(\"\\n ** Data Frame description: \\n\")\n",
    "    print(data_frame.describe(include=\"all\"))\n",
    "    print(\"\\n The shape of data is:\",(all_state_raw_data_file_frame.shape))\n",
    "    print(\"\\n Top 3 records \\n\")\n",
    "    display(all_state_raw_data_file_frame.head(3))\n",
    "    print(\" \\n Unique Source: \", all_state_raw_data_file_frame['Source'].unique())\n",
    "\n",
    "def plot_histogram_state_vs_accident_count(data_frame):\n",
    "    \"\"\"Analyzes the state-wise accident count and plots a histogram.\"\"\"\n",
    "    state_counts = data_frame[\"State\"].value_counts()\n",
    "    \n",
    "    print(f\"\\nNumber of unique states: {state_counts.count()}\")\n",
    "\n",
    "    # Plot histogram for state vs accident count\n",
    "    plt.figure(figsize=(12, 6))\n",
    "    plt.gca().get_yaxis().set_major_formatter(plt.FuncFormatter(lambda x, _: f'{int(x):,}'))   \n",
    "    state_counts.plot(kind=\"bar\", color=\"skyblue\", edgecolor=\"black\")\n",
    "    plt.xlabel(\"State\")\n",
    "    plt.ylabel(\"Total Accidents\")\n",
    "    plt.title(\"Total Accidents by State\")\n",
    "    plt.xticks(rotation=90)\n",
    "    plt.grid(axis=\"y\", linestyle=\"--\", alpha=0.7)\n",
    "    plt.show()\n",
    "\n",
    "\n",
    "def plot_histogram_weather_condition_vs_accident_count(data_frame):\n",
    "    \"\"\"Analyzes the state-wise accident count and plots a histogram.\"\"\"\n",
    "    weather_condition = data_frame[\"Weather_Condition\"].value_counts()\n",
    "    \n",
    "    plt.figure(figsize=(25, 20))\n",
    "    plt.gca().get_yaxis().set_major_formatter(plt.FuncFormatter(lambda x, _: f'{int(x):,}'))   \n",
    "    weather_condition.plot(kind=\"bar\", color=\"skyblue\", edgecolor=\"black\")\n",
    "    plt.xlabel(\"Weather\")\n",
    "    plt.ylabel(\"Total Accidents\")\n",
    "    plt.title(\"Total Accidents by weather condition\")\n",
    "    plt.xticks(rotation=90)\n",
    "    plt.grid(axis=\"y\", linestyle=\"--\", alpha=0.7)\n",
    "    plt.show()\n",
    "\n",
    "def plot_us_map_accident_count(data_frame):\n",
    "    state_counts = data_frame[\"State\"].value_counts().reset_index()\n",
    "    state_counts.columns = [\"State\", \"Accidents\"]\n",
    "\n",
    "    fig = px.choropleth(\n",
    "        state_counts, \n",
    "        locations=\"State\", \n",
    "        locationmode=\"USA-states\", \n",
    "        color=\"Accidents\",\n",
    "        color_continuous_scale=\"reds\",\n",
    "        title=\"Number of US Accidents for each State\"\n",
    "    )\n",
    "    fig.update_layout(geo=dict(scope=\"usa\"))\n",
    "    fig.show()\n",
    "\n",
    "def plot_histogram_street_vs_accident_count(data_frame):\n",
    "    \"\"\"Analyzes the state-wise accident count and plots a histogram.\"\"\"\n",
    "    weather_condition = data_frame[\"Street\"].value_counts()\n",
    "    \n",
    "    plt.figure(figsize=(25, 20))\n",
    "    plt.gca().get_yaxis().set_major_formatter(plt.FuncFormatter(lambda x, _: f'{int(x):,}'))   \n",
    "    weather_condition.plot(kind=\"bar\", color=\"skyblue\", edgecolor=\"black\")\n",
    "    plt.xlabel(\"Street\")\n",
    "    plt.ylabel(\"Total Accidents\")\n",
    "    plt.title(\"Total Accidents by weather condition\")\n",
    "    plt.xticks(rotation=90)\n",
    "    plt.grid(axis=\"y\", linestyle=\"--\", alpha=0.7)\n",
    "    plt.show()\n",
    "\n",
    "def plot_histogram_top_20_citi_accident_count(data_frame, text=\"\"):\n",
    "\n",
    "    # Get the top 20 cities with the highest number of accidents\n",
    "    top_cities = data_frame[\"City\"].value_counts().sort_values()[-20:].reset_index()\n",
    "    top_cities.columns = [\"city\", \"number_of_accidents\"]\n",
    "\n",
    "    # Plot the bar chart\n",
    "    plt.figure(figsize=(20,7))\n",
    "    sns.barplot(x=\"city\", y=\"number_of_accidents\", hue=\"city\", data=top_cities, palette='Set2', legend=False)  # ✅ FIXED\n",
    "    plt.title(f\"TOP 20 CITIES WITH HIGHEST NUMBER OF ACCIDENTS - {text}\", fontsize=20)\n",
    "    plt.xticks(rotation=40)\n",
    "    plt.show()\n",
    "\n",
    "def create_map(df_loc, zoom=6, tiles='OpenStreetMap'):\n",
    "    \"\"\"\n",
    "    Generate a Folium Map with clustered markers of accident locations.\n",
    "    Automatically centers the map based on available locations in the dataset.\n",
    "    \"\"\"\n",
    "    # Compute the mean latitude and longitude for centering the map\n",
    "    mean_lat = df_loc['Start_Lat'].mean()\n",
    "    mean_lng = df_loc['Start_Lng'].mean()\n",
    "\n",
    "    # Create the map centered on the computed mean location\n",
    "    state_map  = folium.Map(location=[mean_lat, mean_lng], zoom_start=zoom, tiles=tiles)\n",
    "\n",
    "    # Add marker clustering\n",
    "    marker_cluster = MarkerCluster().add_to(state_map)\n",
    "\n",
    "    # Iterate over the DataFrame rows and add each marker to the cluster\n",
    "    for idx, row in df_loc.iterrows():\n",
    "        folium.Marker(\n",
    "            location=[row['Start_Lat'], row['Start_Lng']],\n",
    "            popup=f\"Lat, Lng: {row['Start_Lat']}, {row['Start_Lng']}\"\n",
    "        ).add_to(marker_cluster)\n",
    "\n",
    "    return state_map\n",
    " \n",
    "def plot_stacked_bar_chart(data_frame):\n",
    "    \"\"\"\n",
    "    Plots a stacked bar chart showing the distribution of accident severity across states.\n",
    "    \"\"\"\n",
    "    # Count the number of accidents by state and severity\n",
    "    severity_counts = data_frame.groupby([\"State\", \"Severity\"]).size().unstack(fill_value=0)\n",
    "\n",
    "    # Define colors for different severity levels\n",
    "    severity_colors = {1: \"#66c2a5\", 2: \"#fc8d62\", 3: \"#8da0cb\", 4: \"#e78ac3\"}\n",
    "\n",
    "    # Plot the stacked bar chart\n",
    "    severity_counts.plot(kind=\"bar\", stacked=True, figsize=(14, 6), color=[severity_colors[i] for i in severity_counts.columns])\n",
    "\n",
    "    # Chart formatting\n",
    "    plt.title(\"Accident Severity Distribution Across States\", fontsize=14)\n",
    "    plt.xlabel(\"State\", fontsize=12)\n",
    "    plt.ylabel(\"Number of Accidents\", fontsize=12)\n",
    "    plt.xticks(rotation=90)  # Rotate x-axis labels for readability\n",
    "    plt.legend(title=\"Severity Level\")\n",
    "    plt.grid(axis=\"y\", linestyle=\"--\", alpha=0.7)\n",
    "\n",
    "    # Show the plot\n",
    "    plt.show()\n",
    "\n",
    "\n",
    "# accedent_data_frame\n",
    "def plot_stacked_bar_chart(accedent_data_frame, population_data_frame):\n",
    "\n",
    "    # Count accidents per state per severity level\n",
    "    severity_counts = accedent_data_frame.groupby([\"State\", \"Severity\"]).size().unstack(fill_value=0)\n",
    "    \n",
    "    # Merge with population data\n",
    "    merged_df = population_data_frame.merge(severity_counts, on=\"State\", how=\"left\").fillna(0)\n",
    "    \n",
    "    # Define colors for severity levels\n",
    "    severity_colors = {1: \"#a6cee3\", 2: \"#1f78b4\", 3: \"#b2df8a\", 4: \"#33a02c\"}\n",
    "\n",
    "    # Plot stacked bar chart\n",
    "    ax = merged_df.set_index(\"State\")[sorted(severity_counts.columns)].plot(\n",
    "        kind=\"bar\", stacked=True, figsize=(14, 7), color=[severity_colors[s] for s in sorted(severity_counts.columns)]\n",
    "    )\n",
    "\n",
    "    # Labels and title\n",
    "    plt.xlabel(\"State\")\n",
    "    plt.ylabel(\"Number of Accidents\")\n",
    "    plt.title(\"Stacked Bar Chart of Accidents per State by Severity Level\")\n",
    "    plt.xticks(rotation=45, ha=\"right\")\n",
    "    \n",
    "    # Add legend\n",
    "    plt.legend(title=\"Severity Level\", loc=\"upper right\")\n",
    "\n",
    "    # Show plot\n",
    "    plt.grid(axis=\"y\", linestyle=\"--\", alpha=0.6)\n",
    "    plt.show()\n",
    "\n",
    "\n",
    "def plot_bubble_chart(accedent_data_frame, population_data_frame):\n",
    "    # Aggregate accident count and average severity per state\n",
    "    accident_summary = accedent_data_frame.groupby(\"State\").agg(\n",
    "        Accidents=(\"State\", \"count\"),\n",
    "        Avg_Severity=(\"Severity\", \"mean\")\n",
    "    ).reset_index()\n",
    "\n",
    "    # Merge with population data\n",
    "    merged_df = pd.merge(accident_summary, population_data_frame, on=\"State\")\n",
    "\n",
    "    # Normalize population size for better bubble visualization\n",
    "    pop_scaled = merged_df[\"Population\"] / 50000  # Adjusting scale for better visibility\n",
    "\n",
    "    # Create Bubble Chart\n",
    "    plt.figure(figsize=(12, 6))\n",
    "    scatter = plt.scatter(\n",
    "        merged_df[\"Population\"], \n",
    "        merged_df[\"Accidents\"], \n",
    "        s=pop_scaled,  # Bubble size based on population\n",
    "        c=merged_df[\"Avg_Severity\"],  # Color based on severity\n",
    "        cmap=\"Reds\", \n",
    "        alpha=0.7,\n",
    "        edgecolors=\"k\"\n",
    "    )\n",
    "\n",
    "    # Add state labels on each bubble\n",
    "    for i, row in merged_df.iterrows():\n",
    "        plt.text(row[\"Population\"], row[\"Accidents\"], row[\"State\"], fontsize=10, ha='center', va='center', color=\"black\")\n",
    "\n",
    "    # Add color bar for severity\n",
    "    cbar = plt.colorbar(scatter)\n",
    "    cbar.set_label(\"Average Severity (1=Low, 4=High)\")\n",
    "\n",
    "    # Labels and title\n",
    "    plt.xlabel(\"State Population\")\n",
    "    plt.ylabel(\"Number of Accidents\")\n",
    "    plt.title(\"Bubble Chart of Accidents vs. Population (Scaled by Population & Colored by Severity)\")\n",
    "\n",
    "    # Grid for better readability\n",
    "    plt.grid(True, linestyle=\"--\", alpha=0.6)\n",
    "\n",
    "    # Show plot\n",
    "    plt.show()\n",
    "\n",
    "\n",
    "def plot_population_vs_accident_percentage(accedent_data_frame, population_data_frame):\n",
    "\n",
    "    # Count total accidents per state and calculate severity average\n",
    "    accident_summary = accedent_data_frame.groupby(\"State\").agg(\n",
    "        Accidents=(\"State\", \"count\"),\n",
    "        Avg_Severity=(\"Severity\", \"mean\")\n",
    "    ).reset_index()\n",
    "\n",
    "    # Merge with population data\n",
    "    merged_df = pd.merge(accident_summary, population_data_frame, on=\"State\")\n",
    "\n",
    "    # Calculate percentage of population involved in accidents\n",
    "    merged_df[\"Accident_Percentage\"] = (merged_df[\"Accidents\"] / merged_df[\"Population\"]) * 100\n",
    "\n",
    "    # Create Scatter Plot\n",
    "    plt.figure(figsize=(12, 6))\n",
    "    scatter = plt.scatter(\n",
    "        merged_df[\"Accident_Percentage\"], \n",
    "        merged_df[\"Avg_Severity\"], \n",
    "        s=merged_df[\"Population\"] / 50000,  # Bubble size based on population\n",
    "        c=merged_df[\"Avg_Severity\"],  # Color based on severity\n",
    "        cmap=\"Reds\", \n",
    "        alpha=0.7,\n",
    "        edgecolors=\"k\"\n",
    "    )\n",
    "\n",
    "    # Add state labels to each point\n",
    "    for i, row in merged_df.iterrows():\n",
    "        plt.text(row[\"Accident_Percentage\"], row[\"Avg_Severity\"], row[\"State\"], fontsize=10, ha='right', va='center', color=\"black\")\n",
    "\n",
    "    # Add color bar for severity\n",
    "    cbar = plt.colorbar(scatter)\n",
    "    cbar.set_label(\"Average Severity (1=Low, 4=High)\")\n",
    "\n",
    "    # Labels and title\n",
    "    plt.xlabel(\"Accident Percentage of State Population\")\n",
    "    plt.ylabel(\"Average Severity of Accidents\")\n",
    "    plt.title(\"Scatter Plot: Accident Percentage vs. Severity per State\")\n",
    "\n",
    "    # Grid for better readability\n",
    "    plt.grid(True, linestyle=\"--\", alpha=0.6)\n",
    "\n",
    "    # Show plot\n",
    "    plt.show()\n",
    "\n",
    "\n",
    "\n",
    "def plot_paginated_accident_percentage_improved(accident_data_frame, population_data_frame, states_per_page=4):\n",
    "\n",
    "    # Aggregate accident count per state and severity\n",
    "    accident_summary = accident_data_frame.groupby([\"State\", \"Severity\"]).size().unstack(fill_value=0)\n",
    "\n",
    "    # Merge with population data\n",
    "    merged_df = population_data_frame.merge(accident_summary, on=\"State\", how=\"left\").fillna(0)\n",
    "\n",
    "    # Calculate accident percentage per severity level\n",
    "    for severity in sorted(accident_summary.columns):\n",
    "        merged_df[f\"Severity_{severity}_Percentage\"] = (merged_df[severity] / merged_df[\"Population\"]) * 100\n",
    "\n",
    "    # Sort states by population (descending)\n",
    "    merged_df = merged_df.sort_values(by=\"Population\", ascending=False)\n",
    "\n",
    "    # Define severity colors\n",
    "    severity_colors = {1: \"#a6cee3\", 2: \"#1f78b4\", 3: \"#b2df8a\", 4: \"#33a02c\"}\n",
    "\n",
    "    # Paginate the states into batches\n",
    "    total_states = len(merged_df)\n",
    "    for start in range(0, total_states, states_per_page):\n",
    "        end = min(start + states_per_page, total_states)\n",
    "        subset_df = merged_df.iloc[start:end]\n",
    "\n",
    "        # Determine subplot grid size\n",
    "        num_states = len(subset_df)\n",
    "        cols = 2  # Maximum 2 columns for better readability\n",
    "        rows = int(np.ceil(num_states / cols))  # Auto-adjust row count\n",
    "\n",
    "        # Adjust figure size dynamically\n",
    "        fig_height = max(4, rows * 2.5)  # Ensure proper spacing\n",
    "        fig, axes = plt.subplots(rows, cols, figsize=(cols * 5, fig_height))\n",
    "        axes = np.array(axes).reshape(-1)  # Flatten for easy indexing\n",
    "\n",
    "        # Generate bar plots for each state\n",
    "        for idx, row in enumerate(subset_df.itertuples()):\n",
    "            state = row.State\n",
    "            population = row.Population\n",
    "            severity_percentages = [getattr(row, f\"Severity_{s}_Percentage\") for s in sorted(accident_summary.columns)]\n",
    "\n",
    "            # Plot bars\n",
    "            bars = axes[idx].bar(\n",
    "                sorted(accident_summary.columns),\n",
    "                severity_percentages,\n",
    "                color=[severity_colors[s] for s in sorted(accident_summary.columns)]\n",
    "            )\n",
    "\n",
    "            # Adjust y-axis limits to ensure no overlap\n",
    "            max_percentage = max(severity_percentages) if severity_percentages else 0\n",
    "            axes[idx].set_ylim(0, max_percentage * 1.3)  # Add space above bars\n",
    "\n",
    "            # Add title with population info, ensuring no overlap with bars\n",
    "            axes[idx].text(0.5, 1.15, f\"{state}\\nPop: {population:,}\", fontsize=10, fontweight=\"bold\",\n",
    "                           ha='center', va='top', transform=axes[idx].transAxes)\n",
    "\n",
    "            axes[idx].set_xlabel(\"Severity Level\")\n",
    "            axes[idx].set_ylabel(\"Accident % of Population\")\n",
    "            axes[idx].set_xticks(sorted(accident_summary.columns))\n",
    "\n",
    "            # Add percentage annotations on bars with dynamic vertical placement\n",
    "            for bar, percent in zip(bars, severity_percentages):\n",
    "                height_adjustment = max_percentage * 0.05  # Adjust placement dynamically\n",
    "                axes[idx].text(bar.get_x() + bar.get_width() / 2, bar.get_height() + height_adjustment,\n",
    "                               f\"{percent:.2f}%\", ha='center', va='bottom', fontsize=8, color=\"black\")\n",
    "\n",
    "        # Hide any unused subplots (if fewer states than grid size)\n",
    "        for i in range(idx + 1, len(axes)):\n",
    "            fig.delaxes(axes[i])\n",
    "\n",
    "        # Show the current page of subplots\n",
    "        plt.suptitle(f\"Accident Percentage by Severity Level per State (Sorted by Population)\\nPage {start // states_per_page + 1}\", \n",
    "                     fontsize=14, fontweight=\"bold\")\n",
    "        plt.tight_layout()  # Ensures spacing is adjusted properly\n",
    "        plt.show()\n"
   ]
  },
  {
   "cell_type": "code",
   "execution_count": 9,
   "metadata": {},
   "outputs": [],
   "source": [
    "all_state_raw_data_file_frame = process_large_csv(raw_file_path, chunk_size)"
   ]
  },
  {
   "cell_type": "code",
   "execution_count": 10,
   "metadata": {},
   "outputs": [
    {
     "name": "stdout",
     "output_type": "stream",
     "text": [
      "Raw Data Summary. \n",
      "\n",
      "** Data Frame Info: \n",
      "\n",
      "<class 'pandas.core.frame.DataFrame'>\n",
      "RangeIndex: 7728394 entries, 0 to 7728393\n",
      "Data columns (total 46 columns):\n",
      " #   Column                 Dtype  \n",
      "---  ------                 -----  \n",
      " 0   ID                     object \n",
      " 1   Source                 object \n",
      " 2   Severity               int64  \n",
      " 3   Start_Time             object \n",
      " 4   End_Time               object \n",
      " 5   Start_Lat              float64\n",
      " 6   Start_Lng              float64\n",
      " 7   End_Lat                float64\n",
      " 8   End_Lng                float64\n",
      " 9   Distance(mi)           float64\n",
      " 10  Description            object \n",
      " 11  Street                 object \n",
      " 12  City                   object \n",
      " 13  County                 object \n",
      " 14  State                  object \n",
      " 15  Zipcode                object \n",
      " 16  Country                object \n",
      " 17  Timezone               object \n",
      " 18  Airport_Code           object \n",
      " 19  Weather_Timestamp      object \n",
      " 20  Temperature(F)         float64\n",
      " 21  Wind_Chill(F)          float64\n",
      " 22  Humidity(%)            float64\n",
      " 23  Pressure(in)           float64\n",
      " 24  Visibility(mi)         float64\n",
      " 25  Wind_Direction         object \n",
      " 26  Wind_Speed(mph)        float64\n",
      " 27  Precipitation(in)      float64\n",
      " 28  Weather_Condition      object \n",
      " 29  Amenity                bool   \n",
      " 30  Bump                   bool   \n",
      " 31  Crossing               bool   \n",
      " 32  Give_Way               bool   \n",
      " 33  Junction               bool   \n",
      " 34  No_Exit                bool   \n",
      " 35  Railway                bool   \n",
      " 36  Roundabout             bool   \n",
      " 37  Station                bool   \n",
      " 38  Stop                   bool   \n",
      " 39  Traffic_Calming        bool   \n",
      " 40  Traffic_Signal         bool   \n",
      " 41  Turning_Loop           bool   \n",
      " 42  Sunrise_Sunset         object \n",
      " 43  Civil_Twilight         object \n",
      " 44  Nautical_Twilight      object \n",
      " 45  Astronomical_Twilight  object \n",
      "dtypes: bool(13), float64(12), int64(1), object(20)\n",
      "memory usage: 2.0+ GB\n",
      "None\n",
      "\n",
      " ** Data Frame description: \n",
      "\n",
      "               ID   Source      Severity           Start_Time  \\\n",
      "count     7728394  7728394  7.728394e+06              7728394   \n",
      "unique    7728394        3           NaN              6131796   \n",
      "top     A-7777761  Source1           NaN  2021-01-26 16:16:13   \n",
      "freq            1  4325632           NaN                  225   \n",
      "mean          NaN      NaN  2.212384e+00                  NaN   \n",
      "std           NaN      NaN  4.875313e-01                  NaN   \n",
      "min           NaN      NaN  1.000000e+00                  NaN   \n",
      "25%           NaN      NaN  2.000000e+00                  NaN   \n",
      "50%           NaN      NaN  2.000000e+00                  NaN   \n",
      "75%           NaN      NaN  2.000000e+00                  NaN   \n",
      "max           NaN      NaN  4.000000e+00                  NaN   \n",
      "\n",
      "                   End_Time     Start_Lat     Start_Lng       End_Lat  \\\n",
      "count               7728394  7.728394e+06  7.728394e+06  4.325632e+06   \n",
      "unique              6705355           NaN           NaN           NaN   \n",
      "top     2021-11-22 08:00:00           NaN           NaN           NaN   \n",
      "freq                    112           NaN           NaN           NaN   \n",
      "mean                    NaN  3.620119e+01 -9.470255e+01  3.626183e+01   \n",
      "std                     NaN  5.076079e+00  1.739176e+01  5.272905e+00   \n",
      "min                     NaN  2.455480e+01 -1.246238e+02  2.456601e+01   \n",
      "25%                     NaN  3.339963e+01 -1.172194e+02  3.346207e+01   \n",
      "50%                     NaN  3.582397e+01 -8.776662e+01  3.618349e+01   \n",
      "75%                     NaN  4.008496e+01 -8.035368e+01  4.017892e+01   \n",
      "max                     NaN  4.900220e+01 -6.711317e+01  4.907500e+01   \n",
      "\n",
      "             End_Lng  Distance(mi)  ... Roundabout  Station     Stop  \\\n",
      "count   4.325632e+06  7.728394e+06  ...    7728394  7728394  7728394   \n",
      "unique           NaN           NaN  ...          2        2        2   \n",
      "top              NaN           NaN  ...      False    False    False   \n",
      "freq             NaN           NaN  ...    7728145  7526493  7514023   \n",
      "mean   -9.572557e+01  5.618423e-01  ...        NaN      NaN      NaN   \n",
      "std     1.810793e+01  1.776811e+00  ...        NaN      NaN      NaN   \n",
      "min    -1.245457e+02  0.000000e+00  ...        NaN      NaN      NaN   \n",
      "25%    -1.177543e+02  0.000000e+00  ...        NaN      NaN      NaN   \n",
      "50%    -8.802789e+01  3.000000e-02  ...        NaN      NaN      NaN   \n",
      "75%    -8.024709e+01  4.640000e-01  ...        NaN      NaN      NaN   \n",
      "max    -6.710924e+01  4.417500e+02  ...        NaN      NaN      NaN   \n",
      "\n",
      "       Traffic_Calming Traffic_Signal Turning_Loop Sunrise_Sunset  \\\n",
      "count          7728394        7728394      7728394        7705148   \n",
      "unique               2              2            1              2   \n",
      "top              False          False        False            Day   \n",
      "freq           7720796        6584622      7728394        5334553   \n",
      "mean               NaN            NaN          NaN            NaN   \n",
      "std                NaN            NaN          NaN            NaN   \n",
      "min                NaN            NaN          NaN            NaN   \n",
      "25%                NaN            NaN          NaN            NaN   \n",
      "50%                NaN            NaN          NaN            NaN   \n",
      "75%                NaN            NaN          NaN            NaN   \n",
      "max                NaN            NaN          NaN            NaN   \n",
      "\n",
      "       Civil_Twilight Nautical_Twilight Astronomical_Twilight  \n",
      "count         7705148           7705148               7705148  \n",
      "unique              2                 2                     2  \n",
      "top               Day               Day                   Day  \n",
      "freq          5695619           6076156               6377548  \n",
      "mean              NaN               NaN                   NaN  \n",
      "std               NaN               NaN                   NaN  \n",
      "min               NaN               NaN                   NaN  \n",
      "25%               NaN               NaN                   NaN  \n",
      "50%               NaN               NaN                   NaN  \n",
      "75%               NaN               NaN                   NaN  \n",
      "max               NaN               NaN                   NaN  \n",
      "\n",
      "[11 rows x 46 columns]\n",
      "\n",
      " The shape of data is: (7728394, 46)\n",
      "\n",
      " Top 3 records \n",
      "\n"
     ]
    },
    {
     "data": {
      "text/html": [
       "<div>\n",
       "<style scoped>\n",
       "    .dataframe tbody tr th:only-of-type {\n",
       "        vertical-align: middle;\n",
       "    }\n",
       "\n",
       "    .dataframe tbody tr th {\n",
       "        vertical-align: top;\n",
       "    }\n",
       "\n",
       "    .dataframe thead th {\n",
       "        text-align: right;\n",
       "    }\n",
       "</style>\n",
       "<table border=\"1\" class=\"dataframe\">\n",
       "  <thead>\n",
       "    <tr style=\"text-align: right;\">\n",
       "      <th></th>\n",
       "      <th>ID</th>\n",
       "      <th>Source</th>\n",
       "      <th>Severity</th>\n",
       "      <th>Start_Time</th>\n",
       "      <th>End_Time</th>\n",
       "      <th>Start_Lat</th>\n",
       "      <th>Start_Lng</th>\n",
       "      <th>End_Lat</th>\n",
       "      <th>End_Lng</th>\n",
       "      <th>Distance(mi)</th>\n",
       "      <th>...</th>\n",
       "      <th>Roundabout</th>\n",
       "      <th>Station</th>\n",
       "      <th>Stop</th>\n",
       "      <th>Traffic_Calming</th>\n",
       "      <th>Traffic_Signal</th>\n",
       "      <th>Turning_Loop</th>\n",
       "      <th>Sunrise_Sunset</th>\n",
       "      <th>Civil_Twilight</th>\n",
       "      <th>Nautical_Twilight</th>\n",
       "      <th>Astronomical_Twilight</th>\n",
       "    </tr>\n",
       "  </thead>\n",
       "  <tbody>\n",
       "    <tr>\n",
       "      <th>0</th>\n",
       "      <td>A-1</td>\n",
       "      <td>Source2</td>\n",
       "      <td>3</td>\n",
       "      <td>2016-02-08 05:46:00</td>\n",
       "      <td>2016-02-08 11:00:00</td>\n",
       "      <td>39.865147</td>\n",
       "      <td>-84.058723</td>\n",
       "      <td>NaN</td>\n",
       "      <td>NaN</td>\n",
       "      <td>0.01</td>\n",
       "      <td>...</td>\n",
       "      <td>False</td>\n",
       "      <td>False</td>\n",
       "      <td>False</td>\n",
       "      <td>False</td>\n",
       "      <td>False</td>\n",
       "      <td>False</td>\n",
       "      <td>Night</td>\n",
       "      <td>Night</td>\n",
       "      <td>Night</td>\n",
       "      <td>Night</td>\n",
       "    </tr>\n",
       "    <tr>\n",
       "      <th>1</th>\n",
       "      <td>A-2</td>\n",
       "      <td>Source2</td>\n",
       "      <td>2</td>\n",
       "      <td>2016-02-08 06:07:59</td>\n",
       "      <td>2016-02-08 06:37:59</td>\n",
       "      <td>39.928059</td>\n",
       "      <td>-82.831184</td>\n",
       "      <td>NaN</td>\n",
       "      <td>NaN</td>\n",
       "      <td>0.01</td>\n",
       "      <td>...</td>\n",
       "      <td>False</td>\n",
       "      <td>False</td>\n",
       "      <td>False</td>\n",
       "      <td>False</td>\n",
       "      <td>False</td>\n",
       "      <td>False</td>\n",
       "      <td>Night</td>\n",
       "      <td>Night</td>\n",
       "      <td>Night</td>\n",
       "      <td>Day</td>\n",
       "    </tr>\n",
       "    <tr>\n",
       "      <th>2</th>\n",
       "      <td>A-3</td>\n",
       "      <td>Source2</td>\n",
       "      <td>2</td>\n",
       "      <td>2016-02-08 06:49:27</td>\n",
       "      <td>2016-02-08 07:19:27</td>\n",
       "      <td>39.063148</td>\n",
       "      <td>-84.032608</td>\n",
       "      <td>NaN</td>\n",
       "      <td>NaN</td>\n",
       "      <td>0.01</td>\n",
       "      <td>...</td>\n",
       "      <td>False</td>\n",
       "      <td>False</td>\n",
       "      <td>False</td>\n",
       "      <td>False</td>\n",
       "      <td>True</td>\n",
       "      <td>False</td>\n",
       "      <td>Night</td>\n",
       "      <td>Night</td>\n",
       "      <td>Day</td>\n",
       "      <td>Day</td>\n",
       "    </tr>\n",
       "  </tbody>\n",
       "</table>\n",
       "<p>3 rows × 46 columns</p>\n",
       "</div>"
      ],
      "text/plain": [
       "    ID   Source  Severity           Start_Time             End_Time  \\\n",
       "0  A-1  Source2         3  2016-02-08 05:46:00  2016-02-08 11:00:00   \n",
       "1  A-2  Source2         2  2016-02-08 06:07:59  2016-02-08 06:37:59   \n",
       "2  A-3  Source2         2  2016-02-08 06:49:27  2016-02-08 07:19:27   \n",
       "\n",
       "   Start_Lat  Start_Lng  End_Lat  End_Lng  Distance(mi)  ... Roundabout  \\\n",
       "0  39.865147 -84.058723      NaN      NaN          0.01  ...      False   \n",
       "1  39.928059 -82.831184      NaN      NaN          0.01  ...      False   \n",
       "2  39.063148 -84.032608      NaN      NaN          0.01  ...      False   \n",
       "\n",
       "  Station   Stop Traffic_Calming Traffic_Signal Turning_Loop Sunrise_Sunset  \\\n",
       "0   False  False           False          False        False          Night   \n",
       "1   False  False           False          False        False          Night   \n",
       "2   False  False           False           True        False          Night   \n",
       "\n",
       "  Civil_Twilight Nautical_Twilight Astronomical_Twilight  \n",
       "0          Night             Night                 Night  \n",
       "1          Night             Night                   Day  \n",
       "2          Night               Day                   Day  \n",
       "\n",
       "[3 rows x 46 columns]"
      ]
     },
     "metadata": {},
     "output_type": "display_data"
    },
    {
     "name": "stdout",
     "output_type": "stream",
     "text": [
      " \n",
      " Unique Source:  ['Source2' 'Source3' 'Source1']\n"
     ]
    }
   ],
   "source": [
    "print(\"Raw Data Summary. \\n\")\n",
    "print_summary(all_state_raw_data_file_frame)\n"
   ]
  },
  {
   "cell_type": "code",
   "execution_count": 11,
   "metadata": {},
   "outputs": [
    {
     "name": "stdout",
     "output_type": "stream",
     "text": [
      " *****************  Exploration on RAW Data  ************** \n",
      " \n",
      " ********************************************************** \n",
      " \n",
      "\n",
      "Number of unique states: 49\n"
     ]
    },
    {
     "data": {
      "image/png": "[encoded data removed]",
      "text/plain": [
       "<Figure size 1200x600 with 1 Axes>"
      ]
     },
     "metadata": {},
     "output_type": "display_data"
    },
    {
     "data": {
      "application/vnd.plotly.v1+json": {
       "config": {
        "plotlyServerURL": "https://plot.ly"
       },
       "data": [
        {
         "coloraxis": "coloraxis",
         "geo": "geo",
         "hovertemplate": "State=%{location}<br>Accidents=%{z}<extra></extra>",
         "locationmode": "USA-states",
         "locations": [
          "CA",
          "FL",
          "TX",
          "SC",
          "NY",
          "NC",
          "VA",
          "PA",
          "MN",
          "OR",
          "AZ",
          "GA",
          "IL",
          "TN",
          "MI",
          "LA",
          "NJ",
          "MD",
          "OH",
          "WA",
          "AL",
          "UT",
          "CO",
          "OK",
          "MO",
          "CT",
          "IN",
          "MA",
          "WI",
          "KY",
          "NE",
          "MT",
          "IA",
          "AR",
          "NV",
          "KS",
          "DC",
          "RI",
          "MS",
          "DE",
          "WV",
          "ID",
          "NM",
          "NH",
          "WY",
          "ND",
          "ME",
          "VT",
          "SD"
         ],
         "name": "",
         "type": "choropleth",
         "z": {
          "bdata": "eZIaAEBuDQC15AgAXdYFADhPBQAXKQUAxaAEAKyGBABU7gIAzL0CAHGaAgASlQIA/pMCANyNAgCPeQIAxUgCAK8lAgCBJAIAY80BAL2mAQC0igEAN3sBAAVjAQC/RgEACy4BAF0VAQCYBgEALPIAAICHAAD+fQAAxnAAAFBvAADDZgAA/FgAAKFUAAAAUgAAxkgAAEtCAABNOwAAETcAAOE1AABwLAAAVSgAAOUnAACtDgAAnw0AAIoKAACeAwAAIQEAAA==",
          "dtype": "i4"
         }
        }
       ],
       "layout": {
        "coloraxis": {
         "colorbar": {
          "title": {
           "text": "Accidents"
          }
         },
         "colorscale": [
          [
           0,
           "rgb(255,245,240)"
          ],
          [
           0.125,
           "rgb(254,224,210)"
          ],
          [
           0.25,
           "rgb(252,187,161)"
          ],
          [
           0.375,
           "rgb(252,146,114)"
          ],
          [
           0.5,
           "rgb(251,106,74)"
          ],
          [
           0.625,
           "rgb(239,59,44)"
          ],
          [
           0.75,
           "rgb(203,24,29)"
          ],
          [
           0.875,
           "rgb(165,15,21)"
          ],
          [
           1,
           "rgb(103,0,13)"
          ]
         ]
        },
        "geo": {
         "center": {},
         "domain": {
          "x": [
           0,
           1
          ],
          "y": [
           0,
           1
          ]
         },
         "scope": "usa"
        },
        "legend": {
         "tracegroupgap": 0
        },
        "template": {
         "data": {
          "bar": [
           {
            "error_x": {
             "color": "#2a3f5f"
            },
            "error_y": {
             "color": "#2a3f5f"
            },
            "marker": {
             "line": {
              "color": "#E5ECF6",
              "width": 0.5
             },
             "pattern": {
              "fillmode": "overlay",
              "size": 10,
              "solidity": 0.2
             }
            },
            "type": "bar"
           }
          ],
          "barpolar": [
           {
            "marker": {
             "line": {
              "color": "#E5ECF6",
              "width": 0.5
             },
             "pattern": {
              "fillmode": "overlay",
              "size": 10,
              "solidity": 0.2
             }
            },
            "type": "barpolar"
           }
          ],
          "carpet": [
           {
            "aaxis": {
             "endlinecolor": "#2a3f5f",
             "gridcolor": "white",
             "linecolor": "white",
             "minorgridcolor": "white",
             "startlinecolor": "#2a3f5f"
            },
            "baxis": {
             "endlinecolor": "#2a3f5f",
             "gridcolor": "white",
             "linecolor": "white",
             "minorgridcolor": "white",
             "startlinecolor": "#2a3f5f"
            },
            "type": "carpet"
           }
          ],
          "choropleth": [
           {
            "colorbar": {
             "outlinewidth": 0,
             "ticks": ""
            },
            "type": "choropleth"
           }
          ],
          "contour": [
           {
            "colorbar": {
             "outlinewidth": 0,
             "ticks": ""
            },
            "colorscale": [
             [
              0,
              "#0d0887"
             ],
             [
              0.1111111111111111,
              "#46039f"
             ],
             [
              0.2222222222222222,
              "#7201a8"
             ],
             [
              0.3333333333333333,
              "#9c179e"
             ],
             [
              0.4444444444444444,
              "#bd3786"
             ],
             [
              0.5555555555555556,
              "#d8576b"
             ],
             [
              0.6666666666666666,
              "#ed7953"
             ],
             [
              0.7777777777777778,
              "#fb9f3a"
             ],
             [
              0.8888888888888888,
              "#fdca26"
             ],
             [
              1,
              "#f0f921"
             ]
            ],
            "type": "contour"
           }
          ],
          "contourcarpet": [
           {
            "colorbar": {
             "outlinewidth": 0,
             "ticks": ""
            },
            "type": "contourcarpet"
           }
          ],
          "heatmap": [
           {
            "colorbar": {
             "outlinewidth": 0,
             "ticks": ""
            },
            "colorscale": [
             [
              0,
              "#0d0887"
             ],
             [
              0.1111111111111111,
              "#46039f"
             ],
             [
              0.2222222222222222,
              "#7201a8"
             ],
             [
              0.3333333333333333,
              "#9c179e"
             ],
             [
              0.4444444444444444,
              "#bd3786"
             ],
             [
              0.5555555555555556,
              "#d8576b"
             ],
             [
              0.6666666666666666,
              "#ed7953"
             ],
             [
              0.7777777777777778,
              "#fb9f3a"
             ],
             [
              0.8888888888888888,
              "#fdca26"
             ],
             [
              1,
              "#f0f921"
             ]
            ],
            "type": "heatmap"
           }
          ],
          "histogram": [
           {
            "marker": {
             "pattern": {
              "fillmode": "overlay",
              "size": 10,
              "solidity": 0.2
             }
            },
            "type": "histogram"
           }
          ],
          "histogram2d": [
           {
            "colorbar": {
             "outlinewidth": 0,
             "ticks": ""
            },
            "colorscale": [
             [
              0,
              "#0d0887"
             ],
             [
              0.1111111111111111,
              "#46039f"
             ],
             [
              0.2222222222222222,
              "#7201a8"
             ],
             [
              0.3333333333333333,
              "#9c179e"
             ],
             [
              0.4444444444444444,
              "#bd3786"
             ],
             [
              0.5555555555555556,
              "#d8576b"
             ],
             [
              0.6666666666666666,
              "#ed7953"
             ],
             [
              0.7777777777777778,
              "#fb9f3a"
             ],
             [
              0.8888888888888888,
              "#fdca26"
             ],
             [
              1,
              "#f0f921"
             ]
            ],
            "type": "histogram2d"
           }
          ],
          "histogram2dcontour": [
           {
            "colorbar": {
             "outlinewidth": 0,
             "ticks": ""
            },
            "colorscale": [
             [
              0,
              "#0d0887"
             ],
             [
              0.1111111111111111,
              "#46039f"
             ],
             [
              0.2222222222222222,
              "#7201a8"
             ],
             [
              0.3333333333333333,
              "#9c179e"
             ],
             [
              0.4444444444444444,
              "#bd3786"
             ],
             [
              0.5555555555555556,
              "#d8576b"
             ],
             [
              0.6666666666666666,
              "#ed7953"
             ],
             [
              0.7777777777777778,
              "#fb9f3a"
             ],
             [
              0.8888888888888888,
              "#fdca26"
             ],
             [
              1,
              "#f0f921"
             ]
            ],
            "type": "histogram2dcontour"
           }
          ],
          "mesh3d": [
           {
            "colorbar": {
             "outlinewidth": 0,
             "ticks": ""
            },
            "type": "mesh3d"
           }
          ],
          "parcoords": [
           {
            "line": {
             "colorbar": {
              "outlinewidth": 0,
              "ticks": ""
             }
            },
            "type": "parcoords"
           }
          ],
          "pie": [
           {
            "automargin": true,
            "type": "pie"
           }
          ],
          "scatter": [
           {
            "fillpattern": {
             "fillmode": "overlay",
             "size": 10,
             "solidity": 0.2
            },
            "type": "scatter"
           }
          ],
          "scatter3d": [
           {
            "line": {
             "colorbar": {
              "outlinewidth": 0,
              "ticks": ""
             }
            },
            "marker": {
             "colorbar": {
              "outlinewidth": 0,
              "ticks": ""
             }
            },
            "type": "scatter3d"
           }
          ],
          "scattercarpet": [
           {
            "marker": {
             "colorbar": {
              "outlinewidth": 0,
              "ticks": ""
             }
            },
            "type": "scattercarpet"
           }
          ],
          "scattergeo": [
           {
            "marker": {
             "colorbar": {
              "outlinewidth": 0,
              "ticks": ""
             }
            },
            "type": "scattergeo"
           }
          ],
          "scattergl": [
           {
            "marker": {
             "colorbar": {
              "outlinewidth": 0,
              "ticks": ""
             }
            },
            "type": "scattergl"
           }
          ],
          "scattermap": [
           {
            "marker": {
             "colorbar": {
              "outlinewidth": 0,
              "ticks": ""
             }
            },
            "type": "scattermap"
           }
          ],
          "scattermapbox": [
           {
            "marker": {
             "colorbar": {
              "outlinewidth": 0,
              "ticks": ""
             }
            },
            "type": "scattermapbox"
           }
          ],
          "scatterpolar": [
           {
            "marker": {
             "colorbar": {
              "outlinewidth": 0,
              "ticks": ""
             }
            },
            "type": "scatterpolar"
           }
          ],
          "scatterpolargl": [
           {
            "marker": {
             "colorbar": {
              "outlinewidth": 0,
              "ticks": ""
             }
            },
            "type": "scatterpolargl"
           }
          ],
          "scatterternary": [
           {
            "marker": {
             "colorbar": {
              "outlinewidth": 0,
              "ticks": ""
             }
            },
            "type": "scatterternary"
           }
          ],
          "surface": [
           {
            "colorbar": {
             "outlinewidth": 0,
             "ticks": ""
            },
            "colorscale": [
             [
              0,
              "#0d0887"
             ],
             [
              0.1111111111111111,
              "#46039f"
             ],
             [
              0.2222222222222222,
              "#7201a8"
             ],
             [
              0.3333333333333333,
              "#9c179e"
             ],
             [
              0.4444444444444444,
              "#bd3786"
             ],
             [
              0.5555555555555556,
              "#d8576b"
             ],
             [
              0.6666666666666666,
              "#ed7953"
             ],
             [
              0.7777777777777778,
              "#fb9f3a"
             ],
             [
              0.8888888888888888,
              "#fdca26"
             ],
             [
              1,
              "#f0f921"
             ]
            ],
            "type": "surface"
           }
          ],
          "table": [
           {
            "cells": {
             "fill": {
              "color": "#EBF0F8"
             },
             "line": {
              "color": "white"
             }
            },
            "header": {
             "fill": {
              "color": "#C8D4E3"
             },
             "line": {
              "color": "white"
             }
            },
            "type": "table"
           }
          ]
         },
         "layout": {
          "annotationdefaults": {
           "arrowcolor": "#2a3f5f",
           "arrowhead": 0,
           "arrowwidth": 1
          },
          "autotypenumbers": "strict",
          "coloraxis": {
           "colorbar": {
            "outlinewidth": 0,
            "ticks": ""
           }
          },
          "colorscale": {
           "diverging": [
            [
             0,
             "#8e0152"
            ],
            [
             0.1,
             "#c51b7d"
            ],
            [
             0.2,
             "#de77ae"
            ],
            [
             0.3,
             "#f1b6da"
            ],
            [
             0.4,
             "#fde0ef"
            ],
            [
             0.5,
             "#f7f7f7"
            ],
            [
             0.6,
             "#e6f5d0"
            ],
            [
             0.7,
             "#b8e186"
            ],
            [
             0.8,
             "#7fbc41"
            ],
            [
             0.9,
             "#4d9221"
            ],
            [
             1,
             "#276419"
            ]
           ],
           "sequential": [
            [
             0,
             "#0d0887"
            ],
            [
             0.1111111111111111,
             "#46039f"
            ],
            [
             0.2222222222222222,
             "#7201a8"
            ],
            [
             0.3333333333333333,
             "#9c179e"
            ],
            [
             0.4444444444444444,
             "#bd3786"
            ],
            [
             0.5555555555555556,
             "#d8576b"
            ],
            [
             0.6666666666666666,
             "#ed7953"
            ],
            [
             0.7777777777777778,
             "#fb9f3a"
            ],
            [
             0.8888888888888888,
             "#fdca26"
            ],
            [
             1,
             "#f0f921"
            ]
           ],
           "sequentialminus": [
            [
             0,
             "#0d0887"
            ],
            [
             0.1111111111111111,
             "#46039f"
            ],
            [
             0.2222222222222222,
             "#7201a8"
            ],
            [
             0.3333333333333333,
             "#9c179e"
            ],
            [
             0.4444444444444444,
             "#bd3786"
            ],
            [
             0.5555555555555556,
             "#d8576b"
            ],
            [
             0.6666666666666666,
             "#ed7953"
            ],
            [
             0.7777777777777778,
             "#fb9f3a"
            ],
            [
             0.8888888888888888,
             "#fdca26"
            ],
            [
             1,
             "#f0f921"
            ]
           ]
          },
          "colorway": [
           "#636efa",
           "#EF553B",
           "#00cc96",
           "#ab63fa",
           "#FFA15A",
           "#19d3f3",
           "#FF6692",
           "#B6E880",
           "#FF97FF",
           "#FECB52"
          ],
          "font": {
           "color": "#2a3f5f"
          },
          "geo": {
           "bgcolor": "white",
           "lakecolor": "white",
           "landcolor": "#E5ECF6",
           "showlakes": true,
           "showland": true,
           "subunitcolor": "white"
          },
          "hoverlabel": {
           "align": "left"
          },
          "hovermode": "closest",
          "mapbox": {
           "style": "light"
          },
          "paper_bgcolor": "white",
          "plot_bgcolor": "#E5ECF6",
          "polar": {
           "angularaxis": {
            "gridcolor": "white",
            "linecolor": "white",
            "ticks": ""
           },
           "bgcolor": "#E5ECF6",
           "radialaxis": {
            "gridcolor": "white",
            "linecolor": "white",
            "ticks": ""
           }
          },
          "scene": {
           "xaxis": {
            "backgroundcolor": "#E5ECF6",
            "gridcolor": "white",
            "gridwidth": 2,
            "linecolor": "white",
            "showbackground": true,
            "ticks": "",
            "zerolinecolor": "white"
           },
           "yaxis": {
            "backgroundcolor": "#E5ECF6",
            "gridcolor": "white",
            "gridwidth": 2,
            "linecolor": "white",
            "showbackground": true,
            "ticks": "",
            "zerolinecolor": "white"
           },
           "zaxis": {
            "backgroundcolor": "#E5ECF6",
            "gridcolor": "white",
            "gridwidth": 2,
            "linecolor": "white",
            "showbackground": true,
            "ticks": "",
            "zerolinecolor": "white"
           }
          },
          "shapedefaults": {
           "line": {
            "color": "#2a3f5f"
           }
          },
          "ternary": {
           "aaxis": {
            "gridcolor": "white",
            "linecolor": "white",
            "ticks": ""
           },
           "baxis": {
            "gridcolor": "white",
            "linecolor": "white",
            "ticks": ""
           },
           "bgcolor": "#E5ECF6",
           "caxis": {
            "gridcolor": "white",
            "linecolor": "white",
            "ticks": ""
           }
          },
          "title": {
           "x": 0.05
          },
          "xaxis": {
           "automargin": true,
           "gridcolor": "white",
           "linecolor": "white",
           "ticks": "",
           "title": {
            "standoff": 15
           },
           "zerolinecolor": "white",
           "zerolinewidth": 2
          },
          "yaxis": {
           "automargin": true,
           "gridcolor": "white",
           "linecolor": "white",
           "ticks": "",
           "title": {
            "standoff": 15
           },
           "zerolinecolor": "white",
           "zerolinewidth": 2
          }
         }
        },
        "title": {
         "text": "Number of US Accidents for each State"
        }
       }
      }
     },
     "metadata": {},
     "output_type": "display_data"
    },
    {
     "data": {
      "image/png": "[encoded data removed]",
      "text/plain": [
       "<Figure size 2500x2000 with 1 Axes>"
      ]
     },
     "metadata": {},
     "output_type": "display_data"
    }
   ],
   "source": [
    "print(\" *****************  Exploration on RAW Data  ************** \\n \")\n",
    "print(\" ********************************************************** \\n \")\n",
    "plot_histogram_state_vs_accident_count(all_state_raw_data_file_frame)\n",
    "plot_us_map_accident_count(all_state_raw_data_file_frame)\n",
    "plot_histogram_weather_condition_vs_accident_count(all_state_raw_data_file_frame)"
   ]
  },
  {
   "cell_type": "code",
   "execution_count": 12,
   "metadata": {},
   "outputs": [
    {
     "name": "stdout",
     "output_type": "stream",
     "text": [
      " *****************  Starting Data Cleanup  **************\n",
      "Shape:  4325632\n",
      "<class 'pandas.core.frame.DataFrame'>\n",
      "Index: 4325632 entries, 3402762 to 7728393\n",
      "Data columns (total 27 columns):\n",
      " #   Column             Dtype  \n",
      "---  ------             -----  \n",
      " 0   Severity           int64  \n",
      " 1   Start_Time         object \n",
      " 2   End_Time           object \n",
      " 3   Start_Lat          float64\n",
      " 4   Start_Lng          float64\n",
      " 5   Street             object \n",
      " 6   City               object \n",
      " 7   County             object \n",
      " 8   State              object \n",
      " 9   Zipcode            object \n",
      " 10  Country            object \n",
      " 11  Timezone           object \n",
      " 12  Weather_Timestamp  object \n",
      " 13  Temperature(F)     float64\n",
      " 14  Wind_Chill(F)      float64\n",
      " 15  Humidity(%)        float64\n",
      " 16  Visibility(mi)     float64\n",
      " 17  Wind_Speed(mph)    float64\n",
      " 18  Weather_Condition  object \n",
      " 19  Bump               bool   \n",
      " 20  Crossing           bool   \n",
      " 21  Junction           bool   \n",
      " 22  Railway            bool   \n",
      " 23  Roundabout         bool   \n",
      " 24  Station            bool   \n",
      " 25  Stop               bool   \n",
      " 26  Traffic_Signal     bool   \n",
      "dtypes: bool(8), float64(7), int64(1), object(11)\n",
      "memory usage: 693.0+ MB\n",
      "\n",
      " Dataframe after droping roes: \n",
      " None\n",
      "<class 'pandas.core.frame.DataFrame'>\n",
      "Index: 4325632 entries, 3402762 to 7728393\n",
      "Data columns (total 26 columns):\n",
      " #   Column             Dtype  \n",
      "---  ------             -----  \n",
      " 0   Severity           int64  \n",
      " 1   Start_Time         object \n",
      " 2   End_Time           object \n",
      " 3   Start_Lat          float64\n",
      " 4   Start_Lng          float64\n",
      " 5   Street             object \n",
      " 6   City               object \n",
      " 7   County             object \n",
      " 8   State              object \n",
      " 9   Zipcode            object \n",
      " 10  Country            object \n",
      " 11  Timezone           object \n",
      " 12  Weather_Timestamp  object \n",
      " 13  Temperature(F)     float64\n",
      " 14  Humidity(%)        float64\n",
      " 15  Visibility(mi)     float64\n",
      " 16  Wind_Speed(mph)    float64\n",
      " 17  Weather_Condition  object \n",
      " 18  Bump               bool   \n",
      " 19  Crossing           bool   \n",
      " 20  Junction           bool   \n",
      " 21  Railway            bool   \n",
      " 22  Roundabout         bool   \n",
      " 23  Station            bool   \n",
      " 24  Stop               bool   \n",
      " 25  Traffic_Signal     bool   \n",
      "dtypes: bool(8), float64(6), int64(1), object(11)\n",
      "memory usage: 660.0+ MB\n",
      "\n",
      " Dataframe after droping roes: \n",
      " None\n",
      "\n",
      " Shape: 4325632\n",
      " \n",
      " Shape: 4236645\n",
      "Is Null Sum:\n",
      "  Severity                  0\n",
      "Start_Time                0\n",
      "End_Time                  0\n",
      "Start_Lat                 0\n",
      "Start_Lng                 0\n",
      "Street                    0\n",
      "City                      0\n",
      "County                    0\n",
      "State                     0\n",
      "Zipcode                   0\n",
      "Country                   0\n",
      "Timezone                  0\n",
      "Weather_Timestamp         0\n",
      "Temperature(F)        26223\n",
      "Humidity(%)           32582\n",
      "Visibility(mi)        31555\n",
      "Wind_Speed(mph)      127846\n",
      "Weather_Condition     28552\n",
      "Bump                      0\n",
      "Crossing                  0\n",
      "Junction                  0\n",
      "Railway                   0\n",
      "Roundabout                0\n",
      "Station                   0\n",
      "Stop                      0\n",
      "Traffic_Signal            0\n",
      "dtype: int64\n",
      "(4236645, 26)\n",
      "(4065577, 26)\n"
     ]
    }
   ],
   "source": [
    "print(\" *****************  Starting Data Cleanup  **************\")\n",
    "all_state_raw_data_file_frame = all_state_raw_data_file_frame[all_state_raw_data_file_frame[\"Source\"].str.lower() == \"source1\"]\n",
    "all_state_raw_data_file_frame = drop_columns(all_state_raw_data_file_frame)\n",
    "print('Shape: ',all_state_raw_data_file_frame.shape[0])\n",
    "print(\"\\n Dataframe after droping roes: \\n\",all_state_raw_data_file_frame.info())\n",
    "\n",
    "missing_data = pd.DataFrame(all_state_raw_data_file_frame.isnull().sum()).reset_index()\n",
    "missing_data.columns = ['Feature', 'Missing_Percent(%)']\n",
    "missing_data['Missing_Percent(%)'] = missing_data['Missing_Percent(%)'].apply(lambda x: x / all_state_raw_data_file_frame.shape[0] * 100)\n",
    "missing_data.loc[missing_data['Missing_Percent(%)']>0,:]\n",
    "\n",
    "all_state_raw_data_file_frame = all_state_raw_data_file_frame.drop(['Wind_Chill(F)'], axis=1)\n",
    "print(\"\\n Dataframe after droping roes: \\n\",all_state_raw_data_file_frame.info())\n",
    "\n",
    "print(\"\\n Shape:\", all_state_raw_data_file_frame.shape[0])\n",
    "\n",
    "all_state_raw_data_file_frame = all_state_raw_data_file_frame.dropna(subset=['City','Zipcode','Street',\n",
    "                       'Zipcode','County','Timezone','Weather_Timestamp'])\n",
    "print(\" \\n Shape:\", all_state_raw_data_file_frame.shape[0])\n",
    "print(\"Is Null Sum:\\n \",all_state_raw_data_file_frame.isnull().sum())\n",
    "print(all_state_raw_data_file_frame.shape)\n",
    "all_state_raw_data_file_frame.dropna(inplace = True)\n",
    "print(all_state_raw_data_file_frame.shape)\n",
    "#split_and_save_by_state(all_state_raw_data_file_frame)\n",
    "#save_cleaned_all_state_data(all_state_raw_data_file_frame)\n",
    "\n"
   ]
  },
  {
   "cell_type": "code",
   "execution_count": 13,
   "metadata": {},
   "outputs": [
    {
     "name": "stdout",
     "output_type": "stream",
     "text": [
      "<class 'pandas.core.frame.DataFrame'>\n",
      "Index: 4065577 entries, 3402762 to 7728393\n",
      "Data columns (total 26 columns):\n",
      " #   Column             Dtype  \n",
      "---  ------             -----  \n",
      " 0   Severity           int64  \n",
      " 1   Start_Time         object \n",
      " 2   End_Time           object \n",
      " 3   Start_Lat          float64\n",
      " 4   Start_Lng          float64\n",
      " 5   Street             object \n",
      " 6   City               object \n",
      " 7   County             object \n",
      " 8   State              object \n",
      " 9   Zipcode            object \n",
      " 10  Country            object \n",
      " 11  Timezone           object \n",
      " 12  Weather_Timestamp  object \n",
      " 13  Temperature(F)     float64\n",
      " 14  Humidity(%)        float64\n",
      " 15  Visibility(mi)     float64\n",
      " 16  Wind_Speed(mph)    float64\n",
      " 17  Weather_Condition  object \n",
      " 18  Bump               bool   \n",
      " 19  Crossing           bool   \n",
      " 20  Junction           bool   \n",
      " 21  Railway            bool   \n",
      " 22  Roundabout         bool   \n",
      " 23  Station            bool   \n",
      " 24  Stop               bool   \n",
      " 25  Traffic_Signal     bool   \n",
      "dtypes: bool(8), float64(6), int64(1), object(11)\n",
      "memory usage: 620.4+ MB\n",
      "\n",
      " Dataframe after adding new columns roes: \n",
      " None\n",
      "         Severity           Start_Time             End_Time  Start_Lat  \\\n",
      "3402762         3  2016-02-08 00:37:08  2016-02-08 06:37:08  40.108910   \n",
      "3402767         3  2016-02-08 07:53:43  2016-02-08 13:53:43  39.172393   \n",
      "3402768         2  2016-02-08 08:16:57  2016-02-08 14:16:57  39.063240   \n",
      "3402769         2  2016-02-08 08:16:57  2016-02-08 14:16:57  39.067080   \n",
      "3402770         2  2016-02-08 08:15:41  2016-02-08 14:15:41  39.775650   \n",
      "3402771         2  2016-02-08 11:51:46  2016-02-08 17:51:46  41.375310   \n",
      "3402772         2  2016-02-08 14:19:57  2016-02-08 20:19:57  40.702247   \n",
      "3402773         2  2016-02-08 15:16:43  2016-02-08 21:16:43  40.109310   \n",
      "3402774         2  2016-02-08 15:43:50  2016-02-08 21:43:50  39.192880   \n",
      "3402775         2  2016-02-08 16:50:57  2016-02-08 22:50:57  39.138770   \n",
      "\n",
      "         Start_Lng           Street          City      County State Zipcode  \\\n",
      "3402762 -83.092860      Outerbelt E        Dublin    Franklin    OH   43017   \n",
      "3402767 -84.492792           I-75 S    Cincinnati    Hamilton    OH   45217   \n",
      "3402768 -84.032430   State Route 32  Williamsburg    Clermont    OH   45176   \n",
      "3402769 -84.058550   State Route 32       Batavia    Clermont    OH   45103   \n",
      "3402770 -84.186030           I-75 S        Dayton  Montgomery    OH   45404   \n",
      "3402771 -81.820170           I-71 S     Cleveland    Cuyahoga    OH   44130   \n",
      "3402772 -84.075887    E Hanthorn Rd          Lima       Allen    OH   45806   \n",
      "3402773 -82.968490      Outerbelt W   Westerville    Franklin    OH   43081   \n",
      "3402774 -84.477230           I-75 N    Cincinnati    Hamilton    OH   45216   \n",
      "3402775 -84.533940        Hopple St    Cincinnati    Hamilton    OH   45225   \n",
      "\n",
      "         ... Wind_Speed(mph) Weather_Condition   Bump  Crossing  Junction  \\\n",
      "3402762  ...            10.4        Light Rain  False     False     False   \n",
      "3402767  ...            10.4        Light Rain  False     False     False   \n",
      "3402768  ...             8.1          Overcast  False     False     False   \n",
      "3402769  ...             8.1          Overcast  False     False     False   \n",
      "3402770  ...             2.3     Mostly Cloudy  False     False     False   \n",
      "3402771  ...             3.5              Snow  False     False      True   \n",
      "3402772  ...            11.5          Overcast  False     False     False   \n",
      "3402773  ...             3.5              Snow  False     False     False   \n",
      "3402774  ...             4.6        Light Snow  False     False     False   \n",
      "3402775  ...             3.5          Overcast  False      True     False   \n",
      "\n",
      "         Railway  Roundabout Station   Stop  Traffic_Signal  \n",
      "3402762    False       False   False  False           False  \n",
      "3402767    False       False   False  False           False  \n",
      "3402768    False       False   False  False            True  \n",
      "3402769    False       False   False  False           False  \n",
      "3402770    False       False   False  False           False  \n",
      "3402771    False       False   False  False           False  \n",
      "3402772    False       False   False  False           False  \n",
      "3402773    False       False   False  False           False  \n",
      "3402774    False       False   False  False           False  \n",
      "3402775    False       False   False  False            True  \n",
      "\n",
      "[10 rows x 26 columns]\n"
     ]
    }
   ],
   "source": [
    "all_state_cleaned_data_file_frame = all_state_raw_data_file_frame\n",
    "print(\"\\n Dataframe after adding new columns roes: \\n\",all_state_cleaned_data_file_frame.info())\n",
    "print(all_state_cleaned_data_file_frame.head(10))"
   ]
  },
  {
   "cell_type": "code",
   "execution_count": 14,
   "metadata": {},
   "outputs": [
    {
     "name": "stdout",
     "output_type": "stream",
     "text": [
      " *****************  Exploration on Cleanedup Data All State  ************** \n",
      " \n",
      " **************************************************************** \n",
      " \n"
     ]
    },
    {
     "data": {
      "image/png": "[encoded data removed]",
      "text/plain": [
       "<Figure size 2000x700 with 1 Axes>"
      ]
     },
     "metadata": {},
     "output_type": "display_data"
    },
    {
     "data": {
      "application/vnd.plotly.v1+json": {
       "config": {
        "plotlyServerURL": "https://plot.ly"
       },
       "data": [
        {
         "coloraxis": "coloraxis",
         "geo": "geo",
         "hovertemplate": "State=%{location}<br>Accidents=%{z}<extra></extra>",
         "locationmode": "USA-states",
         "locations": [
          "CA",
          "FL",
          "TX",
          "NY",
          "VA",
          "PA",
          "NC",
          "OR",
          "SC",
          "MN",
          "AZ",
          "NJ",
          "TN",
          "MD",
          "LA",
          "GA",
          "MI",
          "IL",
          "UT",
          "CT",
          "CO",
          "MO",
          "OH",
          "WA",
          "IN",
          "AL",
          "MT",
          "AR",
          "WI",
          "DC",
          "IA",
          "KS",
          "OK",
          "WV",
          "NV",
          "ID",
          "MS",
          "DE",
          "KY",
          "MA",
          "RI",
          "NE",
          "NH",
          "NM",
          "ND",
          "WY",
          "ME",
          "VT",
          "SD"
         ],
         "name": "",
         "type": "choropleth",
         "z": {
          "bdata": "38UPAJHGCADaPgMA2twCANbbAgB2nAIAp0UCAG4xAgAgJwIAfOUBAPNSAQCgRQEAUzkBAFwqAQBqFQEAigwBAFoGAQBWAAEA1tUAAEO3AACVrAAAm6oAAOqpAACCoQAA9YAAAARvAADPaAAAlU8AANVAAABANwAAijUAAJ8zAADSMgAARTEAAAcnAADfJQAA4B8AAFsdAADqHAAAyBwAAJwSAAACEQAAuA0AAEkMAAAtDAAAHQsAAL0HAAA5AQAACQEAAA==",
          "dtype": "i4"
         }
        }
       ],
       "layout": {
        "coloraxis": {
         "colorbar": {
          "title": {
           "text": "Accidents"
          }
         },
         "colorscale": [
          [
           0,
           "rgb(255,245,240)"
          ],
          [
           0.125,
           "rgb(254,224,210)"
          ],
          [
           0.25,
           "rgb(252,187,161)"
          ],
          [
           0.375,
           "rgb(252,146,114)"
          ],
          [
           0.5,
           "rgb(251,106,74)"
          ],
          [
           0.625,
           "rgb(239,59,44)"
          ],
          [
           0.75,
           "rgb(203,24,29)"
          ],
          [
           0.875,
           "rgb(165,15,21)"
          ],
          [
           1,
           "rgb(103,0,13)"
          ]
         ]
        },
        "geo": {
         "center": {},
         "domain": {
          "x": [
           0,
           1
          ],
          "y": [
           0,
           1
          ]
         },
         "scope": "usa"
        },
        "legend": {
         "tracegroupgap": 0
        },
        "template": {
         "data": {
          "bar": [
           {
            "error_x": {
             "color": "#2a3f5f"
            },
            "error_y": {
             "color": "#2a3f5f"
            },
            "marker": {
             "line": {
              "color": "#E5ECF6",
              "width": 0.5
             },
             "pattern": {
              "fillmode": "overlay",
              "size": 10,
              "solidity": 0.2
             }
            },
            "type": "bar"
           }
          ],
          "barpolar": [
           {
            "marker": {
             "line": {
              "color": "#E5ECF6",
              "width": 0.5
             },
             "pattern": {
              "fillmode": "overlay",
              "size": 10,
              "solidity": 0.2
             }
            },
            "type": "barpolar"
           }
          ],
          "carpet": [
           {
            "aaxis": {
             "endlinecolor": "#2a3f5f",
             "gridcolor": "white",
             "linecolor": "white",
             "minorgridcolor": "white",
             "startlinecolor": "#2a3f5f"
            },
            "baxis": {
             "endlinecolor": "#2a3f5f",
             "gridcolor": "white",
             "linecolor": "white",
             "minorgridcolor": "white",
             "startlinecolor": "#2a3f5f"
            },
            "type": "carpet"
           }
          ],
          "choropleth": [
           {
            "colorbar": {
             "outlinewidth": 0,
             "ticks": ""
            },
            "type": "choropleth"
           }
          ],
          "contour": [
           {
            "colorbar": {
             "outlinewidth": 0,
             "ticks": ""
            },
            "colorscale": [
             [
              0,
              "#0d0887"
             ],
             [
              0.1111111111111111,
              "#46039f"
             ],
             [
              0.2222222222222222,
              "#7201a8"
             ],
             [
              0.3333333333333333,
              "#9c179e"
             ],
             [
              0.4444444444444444,
              "#bd3786"
             ],
             [
              0.5555555555555556,
              "#d8576b"
             ],
             [
              0.6666666666666666,
              "#ed7953"
             ],
             [
              0.7777777777777778,
              "#fb9f3a"
             ],
             [
              0.8888888888888888,
              "#fdca26"
             ],
             [
              1,
              "#f0f921"
             ]
            ],
            "type": "contour"
           }
          ],
          "contourcarpet": [
           {
            "colorbar": {
             "outlinewidth": 0,
             "ticks": ""
            },
            "type": "contourcarpet"
           }
          ],
          "heatmap": [
           {
            "colorbar": {
             "outlinewidth": 0,
             "ticks": ""
            },
            "colorscale": [
             [
              0,
              "#0d0887"
             ],
             [
              0.1111111111111111,
              "#46039f"
             ],
             [
              0.2222222222222222,
              "#7201a8"
             ],
             [
              0.3333333333333333,
              "#9c179e"
             ],
             [
              0.4444444444444444,
              "#bd3786"
             ],
             [
              0.5555555555555556,
              "#d8576b"
             ],
             [
              0.6666666666666666,
              "#ed7953"
             ],
             [
              0.7777777777777778,
              "#fb9f3a"
             ],
             [
              0.8888888888888888,
              "#fdca26"
             ],
             [
              1,
              "#f0f921"
             ]
            ],
            "type": "heatmap"
           }
          ],
          "histogram": [
           {
            "marker": {
             "pattern": {
              "fillmode": "overlay",
              "size": 10,
              "solidity": 0.2
             }
            },
            "type": "histogram"
           }
          ],
          "histogram2d": [
           {
            "colorbar": {
             "outlinewidth": 0,
             "ticks": ""
            },
            "colorscale": [
             [
              0,
              "#0d0887"
             ],
             [
              0.1111111111111111,
              "#46039f"
             ],
             [
              0.2222222222222222,
              "#7201a8"
             ],
             [
              0.3333333333333333,
              "#9c179e"
             ],
             [
              0.4444444444444444,
              "#bd3786"
             ],
             [
              0.5555555555555556,
              "#d8576b"
             ],
             [
              0.6666666666666666,
              "#ed7953"
             ],
             [
              0.7777777777777778,
              "#fb9f3a"
             ],
             [
              0.8888888888888888,
              "#fdca26"
             ],
             [
              1,
              "#f0f921"
             ]
            ],
            "type": "histogram2d"
           }
          ],
          "histogram2dcontour": [
           {
            "colorbar": {
             "outlinewidth": 0,
             "ticks": ""
            },
            "colorscale": [
             [
              0,
              "#0d0887"
             ],
             [
              0.1111111111111111,
              "#46039f"
             ],
             [
              0.2222222222222222,
              "#7201a8"
             ],
             [
              0.3333333333333333,
              "#9c179e"
             ],
             [
              0.4444444444444444,
              "#bd3786"
             ],
             [
              0.5555555555555556,
              "#d8576b"
             ],
             [
              0.6666666666666666,
              "#ed7953"
             ],
             [
              0.7777777777777778,
              "#fb9f3a"
             ],
             [
              0.8888888888888888,
              "#fdca26"
             ],
             [
              1,
              "#f0f921"
             ]
            ],
            "type": "histogram2dcontour"
           }
          ],
          "mesh3d": [
           {
            "colorbar": {
             "outlinewidth": 0,
             "ticks": ""
            },
            "type": "mesh3d"
           }
          ],
          "parcoords": [
           {
            "line": {
             "colorbar": {
              "outlinewidth": 0,
              "ticks": ""
             }
            },
            "type": "parcoords"
           }
          ],
          "pie": [
           {
            "automargin": true,
            "type": "pie"
           }
          ],
          "scatter": [
           {
            "fillpattern": {
             "fillmode": "overlay",
             "size": 10,
             "solidity": 0.2
            },
            "type": "scatter"
           }
          ],
          "scatter3d": [
           {
            "line": {
             "colorbar": {
              "outlinewidth": 0,
              "ticks": ""
             }
            },
            "marker": {
             "colorbar": {
              "outlinewidth": 0,
              "ticks": ""
             }
            },
            "type": "scatter3d"
           }
          ],
          "scattercarpet": [
           {
            "marker": {
             "colorbar": {
              "outlinewidth": 0,
              "ticks": ""
             }
            },
            "type": "scattercarpet"
           }
          ],
          "scattergeo": [
           {
            "marker": {
             "colorbar": {
              "outlinewidth": 0,
              "ticks": ""
             }
            },
            "type": "scattergeo"
           }
          ],
          "scattergl": [
           {
            "marker": {
             "colorbar": {
              "outlinewidth": 0,
              "ticks": ""
             }
            },
            "type": "scattergl"
           }
          ],
          "scattermap": [
           {
            "marker": {
             "colorbar": {
              "outlinewidth": 0,
              "ticks": ""
             }
            },
            "type": "scattermap"
           }
          ],
          "scattermapbox": [
           {
            "marker": {
             "colorbar": {
              "outlinewidth": 0,
              "ticks": ""
             }
            },
            "type": "scattermapbox"
           }
          ],
          "scatterpolar": [
           {
            "marker": {
             "colorbar": {
              "outlinewidth": 0,
              "ticks": ""
             }
            },
            "type": "scatterpolar"
           }
          ],
          "scatterpolargl": [
           {
            "marker": {
             "colorbar": {
              "outlinewidth": 0,
              "ticks": ""
             }
            },
            "type": "scatterpolargl"
           }
          ],
          "scatterternary": [
           {
            "marker": {
             "colorbar": {
              "outlinewidth": 0,
              "ticks": ""
             }
            },
            "type": "scatterternary"
           }
          ],
          "surface": [
           {
            "colorbar": {
             "outlinewidth": 0,
             "ticks": ""
            },
            "colorscale": [
             [
              0,
              "#0d0887"
             ],
             [
              0.1111111111111111,
              "#46039f"
             ],
             [
              0.2222222222222222,
              "#7201a8"
             ],
             [
              0.3333333333333333,
              "#9c179e"
             ],
             [
              0.4444444444444444,
              "#bd3786"
             ],
             [
              0.5555555555555556,
              "#d8576b"
             ],
             [
              0.6666666666666666,
              "#ed7953"
             ],
             [
              0.7777777777777778,
              "#fb9f3a"
             ],
             [
              0.8888888888888888,
              "#fdca26"
             ],
             [
              1,
              "#f0f921"
             ]
            ],
            "type": "surface"
           }
          ],
          "table": [
           {
            "cells": {
             "fill": {
              "color": "#EBF0F8"
             },
             "line": {
              "color": "white"
             }
            },
            "header": {
             "fill": {
              "color": "#C8D4E3"
             },
             "line": {
              "color": "white"
             }
            },
            "type": "table"
           }
          ]
         },
         "layout": {
          "annotationdefaults": {
           "arrowcolor": "#2a3f5f",
           "arrowhead": 0,
           "arrowwidth": 1
          },
          "autotypenumbers": "strict",
          "coloraxis": {
           "colorbar": {
            "outlinewidth": 0,
            "ticks": ""
           }
          },
          "colorscale": {
           "diverging": [
            [
             0,
             "#8e0152"
            ],
            [
             0.1,
             "#c51b7d"
            ],
            [
             0.2,
             "#de77ae"
            ],
            [
             0.3,
             "#f1b6da"
            ],
            [
             0.4,
             "#fde0ef"
            ],
            [
             0.5,
             "#f7f7f7"
            ],
            [
             0.6,
             "#e6f5d0"
            ],
            [
             0.7,
             "#b8e186"
            ],
            [
             0.8,
             "#7fbc41"
            ],
            [
             0.9,
             "#4d9221"
            ],
            [
             1,
             "#276419"
            ]
           ],
           "sequential": [
            [
             0,
             "#0d0887"
            ],
            [
             0.1111111111111111,
             "#46039f"
            ],
            [
             0.2222222222222222,
             "#7201a8"
            ],
            [
             0.3333333333333333,
             "#9c179e"
            ],
            [
             0.4444444444444444,
             "#bd3786"
            ],
            [
             0.5555555555555556,
             "#d8576b"
            ],
            [
             0.6666666666666666,
             "#ed7953"
            ],
            [
             0.7777777777777778,
             "#fb9f3a"
            ],
            [
             0.8888888888888888,
             "#fdca26"
            ],
            [
             1,
             "#f0f921"
            ]
           ],
           "sequentialminus": [
            [
             0,
             "#0d0887"
            ],
            [
             0.1111111111111111,
             "#46039f"
            ],
            [
             0.2222222222222222,
             "#7201a8"
            ],
            [
             0.3333333333333333,
             "#9c179e"
            ],
            [
             0.4444444444444444,
             "#bd3786"
            ],
            [
             0.5555555555555556,
             "#d8576b"
            ],
            [
             0.6666666666666666,
             "#ed7953"
            ],
            [
             0.7777777777777778,
             "#fb9f3a"
            ],
            [
             0.8888888888888888,
             "#fdca26"
            ],
            [
             1,
             "#f0f921"
            ]
           ]
          },
          "colorway": [
           "#636efa",
           "#EF553B",
           "#00cc96",
           "#ab63fa",
           "#FFA15A",
           "#19d3f3",
           "#FF6692",
           "#B6E880",
           "#FF97FF",
           "#FECB52"
          ],
          "font": {
           "color": "#2a3f5f"
          },
          "geo": {
           "bgcolor": "white",
           "lakecolor": "white",
           "landcolor": "#E5ECF6",
           "showlakes": true,
           "showland": true,
           "subunitcolor": "white"
          },
          "hoverlabel": {
           "align": "left"
          },
          "hovermode": "closest",
          "mapbox": {
           "style": "light"
          },
          "paper_bgcolor": "white",
          "plot_bgcolor": "#E5ECF6",
          "polar": {
           "angularaxis": {
            "gridcolor": "white",
            "linecolor": "white",
            "ticks": ""
           },
           "bgcolor": "#E5ECF6",
           "radialaxis": {
            "gridcolor": "white",
            "linecolor": "white",
            "ticks": ""
           }
          },
          "scene": {
           "xaxis": {
            "backgroundcolor": "#E5ECF6",
            "gridcolor": "white",
            "gridwidth": 2,
            "linecolor": "white",
            "showbackground": true,
            "ticks": "",
            "zerolinecolor": "white"
           },
           "yaxis": {
            "backgroundcolor": "#E5ECF6",
            "gridcolor": "white",
            "gridwidth": 2,
            "linecolor": "white",
            "showbackground": true,
            "ticks": "",
            "zerolinecolor": "white"
           },
           "zaxis": {
            "backgroundcolor": "#E5ECF6",
            "gridcolor": "white",
            "gridwidth": 2,
            "linecolor": "white",
            "showbackground": true,
            "ticks": "",
            "zerolinecolor": "white"
           }
          },
          "shapedefaults": {
           "line": {
            "color": "#2a3f5f"
           }
          },
          "ternary": {
           "aaxis": {
            "gridcolor": "white",
            "linecolor": "white",
            "ticks": ""
           },
           "baxis": {
            "gridcolor": "white",
            "linecolor": "white",
            "ticks": ""
           },
           "bgcolor": "#E5ECF6",
           "caxis": {
            "gridcolor": "white",
            "linecolor": "white",
            "ticks": ""
           }
          },
          "title": {
           "x": 0.05
          },
          "xaxis": {
           "automargin": true,
           "gridcolor": "white",
           "linecolor": "white",
           "ticks": "",
           "title": {
            "standoff": 15
           },
           "zerolinecolor": "white",
           "zerolinewidth": 2
          },
          "yaxis": {
           "automargin": true,
           "gridcolor": "white",
           "linecolor": "white",
           "ticks": "",
           "title": {
            "standoff": 15
           },
           "zerolinecolor": "white",
           "zerolinewidth": 2
          }
         }
        },
        "title": {
         "text": "Number of US Accidents for each State"
        }
       }
      }
     },
     "metadata": {},
     "output_type": "display_data"
    },
    {
     "name": "stdout",
     "output_type": "stream",
     "text": [
      "\n",
      "Number of unique states: 49\n"
     ]
    },
    {
     "data": {
      "image/png": "[encoded data removed]",
      "text/plain": [
       "<Figure size 1200x600 with 1 Axes>"
      ]
     },
     "metadata": {},
     "output_type": "display_data"
    }
   ],
   "source": [
    "print(\" *****************  Exploration on Cleanedup Data All State  ************** \\n \")\n",
    "print(\" **************************************************************** \\n \")\n",
    "plot_histogram_top_20_citi_accident_count(all_state_cleaned_data_file_frame, 'Across USA')\n",
    "plot_us_map_accident_count(all_state_cleaned_data_file_frame)\n",
    "plot_histogram_state_vs_accident_count(all_state_cleaned_data_file_frame)\n"
   ]
  }
 ],
 "metadata": {
  "kernelspec": {
   "display_name": "Python 3",
   "language": "python",
   "name": "python3"
  },
  "language_info": {
   "codemirror_mode": {
    "name": "ipython",
    "version": 3
   },
   "file_extension": ".py",
   "mimetype": "text/x-python",
   "name": "python",
   "nbconvert_exporter": "python",
   "pygments_lexer": "ipython3",
   "version": "3.12.2"
  }
 },
 "nbformat": 4,
 "nbformat_minor": 2
}
