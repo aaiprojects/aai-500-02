{
 "cells": [
  {
   "cell_type": "code",
   "execution_count": 72,
   "metadata": {},
   "outputs": [],
   "source": [
    "import pandas as pd\n",
    "import gzip\n",
    "import gdown\n",
    "import os\n",
    "\n",
    "original_file_id = \"1Jt5cnymhL_OLdFyF9YZNZGH6EWUVGe1I\"\n",
    "texas_file_id = \"1gyBuhTcea5WgUOa5idJlvj5WiM8xejCG\"\n",
    "virginia_file_id = \"1bMKS1mMrdRT8rEvLyg_WqeCRpdg9RP9I\"\n",
    "california_file_id = \"1X942vMl8jntbRs7heqYa22HFb8-q6M3T\"\n",
    "five_hunderdk_file_id = \"1sG69mVymv4WC9ddreESc87Pl9P6gU8Ye\"\n",
    "\n",
    "output_path = f\"../data/accident_data.csv\"\n",
    "\n",
    "def load_data(file_id):\n",
    "    if not os.path.exists(output_path):\n",
    "        gdown.download(f\"https://drive.google.com/uc?id={file_id}\", output_path, quiet=False)\n",
    "\n",
    "    return pd.read_csv(output_path, sep=\",\", low_memory=False)  # Prevent dtype warnings\n",
    "\n",
    "def load_local_data(path):\n",
    "    return pd.read_csv(path, sep=\",\", low_memory=False)  # Prevent dtype warnings\n",
    "\n",
    "def cut_data():\n",
    "    input_csv = \"/Users/santoshkumar/MSAAI/statistics/project/US_Accidents_March23.csv\"\n",
    "    output_csv = \"/Users/santoshkumar/MSAAI/statistics/project/latest_2mn_records.csv\"\n",
    "\n",
    "    # Define parameters\n",
    "    num_records = 2_000_000\n",
    "    chunk_size = 100_000  # Adjust based on memory\n",
    "\n",
    "    # List to store chunks\n",
    "    chunks_list = []\n",
    "\n",
    "    # Read file in chunks\n",
    "    for chunk in pd.read_csv(input_csv, chunksize=chunk_size):\n",
    "        chunks_list.append(chunk)  # Append to the list\n",
    "\n",
    "        # Keep only the last 1 million records to avoid memory bloat\n",
    "        if len(chunks_list) > (num_records // chunk_size) + 1:\n",
    "            chunks_list.pop(0)  # Remove the oldest chunk\n",
    "\n",
    "    # Combine only necessary data\n",
    "    latest_records = pd.concat(chunks_list).tail(num_records)\n",
    "\n",
    "    # Save to CSV\n",
    "    latest_records.to_csv(output_csv, index=False)\n",
    "\n",
    "    print(f\"Stored latest {num_records} records in {output_csv}\")\n",
    "\n",
    "# # cut_data()\n",
    "# data = load_local_data(\"/Users/santoshkumar/MSAAI/statistics/project/US_Accidents_March23.csv\")\n",
    "# print(data.columns)\n",
    "# print(data['State'].value_counts().head(10))\n",
    "# data.head(100)\n",
    "\n",
    "california_data = load_data(california_file_id)\n",
    "\n"
   ]
  },
  {
   "cell_type": "code",
   "execution_count": 68,
   "metadata": {},
   "outputs": [],
   "source": [
    "# florida_data = data[data['State'] == 'VA']\n",
    "# florida_data.to_csv('/Users/santoshkumar/MSAAI/statistics/project/virginia.csv', index=False)"
   ]
  },
  {
   "cell_type": "code",
   "execution_count": 74,
   "metadata": {},
   "outputs": [
    {
     "name": "stdout",
     "output_type": "stream",
     "text": [
      "Index(['ID', 'Source', 'Severity', 'Start_Time', 'End_Time', 'Start_Lat',\n",
      "       'Start_Lng', 'End_Lat', 'End_Lng', 'Distance(mi)', 'Description',\n",
      "       'Street', 'City', 'County', 'State', 'Zipcode', 'Country', 'Timezone',\n",
      "       'Airport_Code', 'Weather_Timestamp', 'Temperature(F)', 'Wind_Chill(F)',\n",
      "       'Humidity(%)', 'Pressure(in)', 'Visibility(mi)', 'Wind_Direction',\n",
      "       'Wind_Speed(mph)', 'Precipitation(in)', 'Weather_Condition', 'Amenity',\n",
      "       'Bump', 'Crossing', 'Give_Way', 'Junction', 'No_Exit', 'Railway',\n",
      "       'Roundabout', 'Station', 'Stop', 'Traffic_Calming', 'Traffic_Signal',\n",
      "       'Turning_Loop', 'Sunrise_Sunset', 'Civil_Twilight', 'Nautical_Twilight',\n",
      "       'Astronomical_Twilight'],\n",
      "      dtype='object')\n",
      "Start_Time\n",
      "2022-04-26 16:14:30    54\n",
      "2020-11-10 13:09:30    46\n",
      "2022-08-09 06:42:51    45\n",
      "2018-11-12 00:37:27    40\n",
      "2021-04-14 10:40:43    38\n",
      "2021-02-10 23:01:30    38\n",
      "2022-07-29 07:36:45    35\n",
      "2020-11-17 13:25:30    35\n",
      "2016-04-10 08:59:26    35\n",
      "2022-08-08 14:12:29    34\n",
      "Name: count, dtype: int64\n"
     ]
    }
   ],
   "source": [
    "print(california_data.columns)\n",
    "\n",
    "# Group by city and count the number of accidents\n",
    "accidents_by_city = california_data['Start_Time'].value_counts().head(10)\n",
    "\n",
    "# Display the top 10 cities with the most accidents\n",
    "print(accidents_by_city)"
   ]
  },
  {
   "cell_type": "code",
   "execution_count": 76,
   "metadata": {},
   "outputs": [
    {
     "name": "stdout",
     "output_type": "stream",
     "text": [
      "County\n",
      "Los Angeles       526851\n",
      "San Bernardino    109631\n",
      "Orange            107580\n",
      "San Diego         104165\n",
      "Alameda            98553\n",
      "Sacramento         95377\n",
      "Riverside          88248\n",
      "Santa Clara        70482\n",
      "Contra Costa       51338\n",
      "Kern               37614\n",
      "Name: count, dtype: int64\n"
     ]
    }
   ],
   "source": [
    "# Group by county and count the number of accidents\n",
    "accidents_by_county = california_data['County'].value_counts().head(10)\n",
    "\n",
    "# Display the top 10 counties with the most accidents\n",
    "print(accidents_by_county)"
   ]
  },
  {
   "cell_type": "code",
   "execution_count": 77,
   "metadata": {},
   "outputs": [
    {
     "name": "stdout",
     "output_type": "stream",
     "text": [
      "ID         Source   Severity  Start_Time           End_Time             Start_Lat  Start_Lng    End_Lat    End_Lng      Distance(mi)  Description                                                                Street   City        County   State  Zipcode  Country  Timezone    Airport_Code  Weather_Timestamp    Temperature(F)  Wind_Chill(F)  Humidity(%)  Pressure(in)  Visibility(mi)  Wind_Direction  Wind_Speed(mph)  Precipitation(in)  Weather_Condition  Amenity  Bump   Crossing  Give_Way  Junction  No_Exit  Railway  Roundabout  Station  Stop   Traffic_Calming  Traffic_Signal  Turning_Loop  Sunrise_Sunset  Civil_Twilight  Nautical_Twilight  Astronomical_Twilight\n",
      "A-3530658  Source1  2         2017-01-12 05:41:53  2017-01-12 11:41:53  37.701296  -121.866939  37.701170  -121.854690  0.670         Between Santa Rita Rd/Tassajara Rd and El Charro Rd/Fallon Rd - Accident.  I-580 E  Pleasanton  Alameda  CA     94588    US       US/Pacific  KLVK          2017-01-12 05:53:00  45.0            41.8           90.0         29.84         10.0            NW              5.8              0.0                Overcast           False    False  False     False     False     False    False    False       False    False  False            False           False         Night           Night           Night              Night                    1\n",
      "A-7053481  Source1  2         2020-06-23 00:45:38  2020-06-23 01:17:31  37.701690  -121.882460  37.701700  -121.883710  0.068         At Hacienda Dr - Accident. Hard shoulder blocked.                          I-580 W  Pleasanton  Alameda  CA     94588    US       US/Pacific  KLVK          2020-06-23 00:53:00  64.0            64.0           70.0         29.48         10.0            WNW             5.0              0.0                Fair               False    False  False     False     False     False    False    False       False    False  False            False           False         Night           Night           Night              Night                    1\n",
      "A-7007260  Source1  1         2020-04-30 22:22:59  2020-04-30 22:37:59  37.701080  -121.844800  37.701080  -121.844800  0.000         At El Charro Rd/Fallon Rd - Accident.                                      I-580 E  Pleasanton  Alameda  CA     94588    US       US/Pacific  KLVK          2020-04-30 21:53:00  56.0            56.0           62.0         29.65         10.0            WSW             6.0              0.0                Fair               False    False  False     False     False     False    False    False       False    False  False            False           False         Night           Night           Night              Night                    1\n",
      "A-7004882  Source1  1         2020-04-30 21:42:44  2020-04-30 21:57:44  37.701080  -121.844800  37.701080  -121.844800  0.000         At El Charro Rd/Fallon Rd - Accident.                                      I-580 E  Pleasanton  Alameda  CA     94588    US       US/Pacific  KLVK          2020-04-30 21:53:00  56.0            56.0           62.0         29.65         10.0            WSW             6.0              0.0                Fair               False    False  False     False     False     False    False    False       False    False  False            False           False         Night           Night           Night              Night                    1\n",
      "A-7004878  Source1  1         2020-04-30 21:09:46  2020-04-30 21:24:46  37.701080  -121.844800  37.701080  -121.844800  0.000         At El Charro Rd/Fallon Rd - Accident.                                      I-580 E  Pleasanton  Alameda  CA     94588    US       US/Pacific  KLVK          2020-04-30 20:53:00  58.0            58.0           51.0         29.64         10.0            SW              5.0              0.0                Fair               False    False  False     False     False     False    False    False       False    False  False            False           False         Night           Night           Night              Day                      1\n",
      "A-7004875  Source1  1         2020-04-30 21:04:56  2020-04-30 21:19:56  37.701080  -121.844800  37.701080  -121.844800  0.000         At El Charro Rd/Fallon Rd - Accident.                                      I-580 E  Pleasanton  Alameda  CA     94588    US       US/Pacific  KLVK          2020-04-30 20:53:00  58.0            58.0           51.0         29.64         10.0            SW              5.0              0.0                Fair               False    False  False     False     False     False    False    False       False    False  False            False           False         Night           Night           Night              Day                      1\n",
      "A-7004872  Source1  1         2020-04-30 21:29:49  2020-04-30 21:44:49  37.701080  -121.844800  37.701080  -121.844800  0.000         At El Charro Rd/Fallon Rd - Accident.                                      I-580 E  Pleasanton  Alameda  CA     94588    US       US/Pacific  KLVK          2020-04-30 21:53:00  56.0            56.0           62.0         29.65         10.0            WSW             6.0              0.0                Fair               False    False  False     False     False     False    False    False       False    False  False            False           False         Night           Night           Night              Day                      1\n",
      "A-7004871  Source1  2         2020-04-30 20:54:00  2020-04-30 22:06:42  37.701161  -121.854366  37.701161  -121.854366  0.000         At El Charro Rd/Fallon Rd - Accident.                                      I-580 E  Pleasanton  Alameda  CA     94588    US       US/Pacific  KLVK          2020-04-30 20:53:00  58.0            58.0           51.0         29.64         10.0            SW              5.0              0.0                Fair               False    False  False     False     False     False    False    False       False    False  False            False           False         Night           Night           Day                Day                      1\n",
      "A-7004800  Source1  1         2020-04-30 15:04:58  2020-04-30 15:39:56  37.701440  -121.883030  37.701440  -121.883030  0.000         At Santa Rita Rd/Tassajara Rd - Accident. Two lanes blocked.               I-580 E  Pleasanton  Alameda  CA     94588    US       US/Pacific  KLVK          2020-04-30 14:53:00  76.0            76.0           31.0         29.64         10.0            W               14.0             0.0                Fair               False    False  False     False     False     False    False    False       False    False  False            False           False         Day             Day             Day                Day                      1\n",
      "A-7004791  Source1  1         2020-04-30 15:04:58  2020-04-30 15:19:58  37.701440  -121.883030  37.701440  -121.883030  0.000         At Santa Rita Rd/Tassajara Rd - Accident. Two lanes blocked.               I-580 E  Pleasanton  Alameda  CA     94588    US       US/Pacific  KLVK          2020-04-30 14:53:00  76.0            76.0           31.0         29.64         10.0            W               14.0             0.0                Fair               False    False  False     False     False     False    False    False       False    False  False            False           False         Day             Day             Day                Day                      1\n",
      "Name: count, dtype: int64\n"
     ]
    }
   ],
   "source": [
    "# Filter the california_data dataframe for Alameda county\n",
    "alameda_data = california_data[california_data['County'] == 'Alameda']\n",
    "\n",
    "# Display the new dataframe\n",
    "print(alameda_data[alameda_data['Zipcode'] == '94588'].value_counts().head(10))"
   ]
  },
  {
   "cell_type": "code",
   "execution_count": 78,
   "metadata": {},
   "outputs": [
    {
     "name": "stdout",
     "output_type": "stream",
     "text": [
      "     Severity Weather_Condition  Visibility(mi)  Count\n",
      "0           1             Clear            10.0      7\n",
      "1           1            Cloudy             5.0      1\n",
      "2           1            Cloudy             7.0      3\n",
      "3           1            Cloudy             8.0      8\n",
      "4           1            Cloudy             9.0      4\n",
      "..        ...               ...             ...    ...\n",
      "577         4       Shallow Fog            10.0      1\n",
      "578         4             Smoke             5.0      1\n",
      "579         4             Smoke             6.0      1\n",
      "580         4             Smoke             9.0      1\n",
      "581         4             Smoke            10.0      4\n",
      "\n",
      "[582 rows x 4 columns]\n"
     ]
    }
   ],
   "source": [
    "# Group by severity and weather condition, and count the number of accidents\n",
    "severity_weather_classification = alameda_data.groupby(['Severity', 'Weather_Condition', \"Visibility(mi)\"]).size().reset_index(name='Count')\n",
    "\n",
    "# Display the classification\n",
    "print(severity_weather_classification)\n",
    "\n",
    "# import matplotlib.pyplot as plt\n",
    "\n",
    "# plt.figure(figsize=(10, 6))\n",
    "# plt.bar(severity_weather_classification['Weather_Condition'], severity_weather_classification['Count'])\n",
    "# plt.xlabel('Weather Condition')\n",
    "# plt.ylabel('Count')\n",
    "# plt.title('Severity vs. Weather Condition in Alameda County')\n",
    "# plt.show()"
   ]
  },
  {
   "cell_type": "code",
   "execution_count": 79,
   "metadata": {},
   "outputs": [
    {
     "name": "stdout",
     "output_type": "stream",
     "text": [
      "     Severity   Weather_Condition  Visibility(mi)  Count\n",
      "0           1               Clear            10.0      7\n",
      "21          1          Light Rain            10.0     24\n",
      "22          1  Light Rain / Windy             5.0      1\n",
      "23          1  Light Rain / Windy             9.0      1\n",
      "24          1       Mostly Cloudy             9.0      3\n",
      "..        ...                 ...             ...    ...\n",
      "546         4       Light Drizzle             8.0      1\n",
      "547         4          Light Rain             2.0      1\n",
      "548         4          Light Rain             3.0      1\n",
      "550         4          Light Rain             5.0      3\n",
      "581         4               Smoke            10.0      4\n",
      "\n",
      "[582 rows x 4 columns]\n"
     ]
    }
   ],
   "source": [
    "import folium\n",
    "\n",
    "severity_weather_classification_sorted = severity_weather_classification.sort_values(by='Severity')\n",
    "print(severity_weather_classification_sorted)\n",
    "# Create a map centered around Alameda County\n",
    "# map_alameda = folium.Map(location=[37.77, -122.27], zoom_start=10)\n",
    "\n",
    "# Add markers for each accident location\n",
    "# for index, row in alameda_data.iterrows():\n",
    "#     folium.Marker([row['Start_Lat'], row['Start_Lng']], popup=row['Description']).add_to(map_alameda)\n",
    "\n",
    "# Display the map\n",
    "# map_alameda"
   ]
  }
 ],
 "metadata": {
  "kernelspec": {
   "display_name": "venv",
   "language": "python",
   "name": "python3"
  },
  "language_info": {
   "codemirror_mode": {
    "name": "ipython",
    "version": 3
   },
   "file_extension": ".py",
   "mimetype": "text/x-python",
   "name": "python",
   "nbconvert_exporter": "python",
   "pygments_lexer": "ipython3",
   "version": "3.11.6"
  }
 },
 "nbformat": 4,
 "nbformat_minor": 2
}
